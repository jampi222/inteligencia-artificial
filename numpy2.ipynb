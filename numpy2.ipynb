{
  "nbformat": 4,
  "nbformat_minor": 0,
  "metadata": {
    "colab": {
      "provenance": [],
      "authorship_tag": "ABX9TyO24cG7ddy4vQa5+CLiETJZ",
      "include_colab_link": true
    },
    "kernelspec": {
      "name": "python3",
      "display_name": "Python 3"
    },
    "language_info": {
      "name": "python"
    }
  },
  "cells": [
    {
      "cell_type": "markdown",
      "metadata": {
        "id": "view-in-github",
        "colab_type": "text"
      },
      "source": [
        "<a href=\"https://colab.research.google.com/github/jampi222/inteligencia-artificial/blob/main/numpy2.ipynb\" target=\"_parent\"><img src=\"https://colab.research.google.com/assets/colab-badge.svg\" alt=\"Open In Colab\"/></a>"
      ]
    },
    {
      "cell_type": "code",
      "execution_count": null,
      "metadata": {
        "id": "3QfxyXzwG1iY"
      },
      "outputs": [],
      "source": [
        "import numpy as np"
      ]
    },
    {
      "cell_type": "code",
      "source": [
        "a=np.random.randint(1, 11, size=(3,4))\n",
        "b=np.random.randint(1, 11, size=(3,4))\n",
        "print(a)\n",
        "print(b)"
      ],
      "metadata": {
        "colab": {
          "base_uri": "https://localhost:8080/"
        },
        "id": "KFnzcyYZHDAF",
        "outputId": "928950bd-408a-4691-d8a1-9c71ea48527b"
      },
      "execution_count": null,
      "outputs": [
        {
          "output_type": "stream",
          "name": "stdout",
          "text": [
            "[[ 5  4 10  1]\n",
            " [ 6  5 10  4]\n",
            " [ 6  2  7  1]]\n",
            "[[ 2  7  5  2]\n",
            " [10  6  8  9]\n",
            " [10  1 10  9]]\n"
          ]
        }
      ]
    },
    {
      "cell_type": "code",
      "source": [
        "print(a.shape)\n",
        "print(b.shape)"
      ],
      "metadata": {
        "colab": {
          "base_uri": "https://localhost:8080/"
        },
        "id": "XFKlk3zTHV-r",
        "outputId": "e4f631d1-2923-4a51-af86-3b75fead4aec"
      },
      "execution_count": null,
      "outputs": [
        {
          "output_type": "stream",
          "name": "stdout",
          "text": [
            "(3, 4)\n",
            "(3, 4)\n"
          ]
        }
      ]
    },
    {
      "cell_type": "code",
      "source": [
        "print('Adding numbers')\n",
        "#plus\n",
        "print(a+b)\n",
        "print('Subtracting numbers')\n",
        "#minus\n",
        "print(a-b)\n",
        "print('Multiplication numbers')\n",
        "#times\n",
        "print(a*b)"
      ],
      "metadata": {
        "colab": {
          "base_uri": "https://localhost:8080/"
        },
        "id": "zo5jMUdHHeaz",
        "outputId": "0bf6dba7-66cf-4326-83e3-6403bce8963f"
      },
      "execution_count": null,
      "outputs": [
        {
          "output_type": "stream",
          "name": "stdout",
          "text": [
            "Adding numbers\n",
            "[[ 7 11 15  3]\n",
            " [16 11 18 13]\n",
            " [16  3 17 10]]\n",
            "Subtracting numbers\n",
            "[[ 3 -3  5 -1]\n",
            " [-4 -1  2 -5]\n",
            " [-4  1 -3 -8]]\n",
            "Multiplication numbers\n",
            "[[10 28 50  2]\n",
            " [60 30 80 36]\n",
            " [60  2 70  9]]\n"
          ]
        }
      ]
    },
    {
      "cell_type": "code",
      "source": [
        "print('Add')\n",
        "print(np.add(a,b))\n",
        "print('Substract')\n",
        "print(np.multiply(a,b))\n",
        "print('Multiply')\n",
        "print(np.subtract(a,b))\n",
        "print('Divide')\n",
        "print(np.divide(a,b))"
      ],
      "metadata": {
        "colab": {
          "base_uri": "https://localhost:8080/"
        },
        "id": "PPEdzqyQHnzh",
        "outputId": "b3412e05-c275-4357-e5e7-1653d1d89233"
      },
      "execution_count": null,
      "outputs": [
        {
          "output_type": "stream",
          "name": "stdout",
          "text": [
            "Add\n",
            "[[ 7 11 15  3]\n",
            " [16 11 18 13]\n",
            " [16  3 17 10]]\n",
            "Substract\n",
            "[[10 28 50  2]\n",
            " [60 30 80 36]\n",
            " [60  2 70  9]]\n",
            "Multiply\n",
            "[[ 3 -3  5 -1]\n",
            " [-4 -1  2 -5]\n",
            " [-4  1 -3 -8]]\n",
            "Divide\n",
            "[[2.5        0.57142857 2.         0.5       ]\n",
            " [0.6        0.83333333 1.25       0.44444444]\n",
            " [0.6        2.         0.7        0.11111111]]\n"
          ]
        }
      ]
    },
    {
      "cell_type": "code",
      "source": [
        "m1 = np.random.randint(1, 11, size=(3,4))\n",
        "m2 = np.random.randint(1, 11, size=(4,8))\n",
        "print(m1)\n",
        "print(m1.shape)\n",
        "print(m2)\n",
        "print(m2.shape)"
      ],
      "metadata": {
        "colab": {
          "base_uri": "https://localhost:8080/"
        },
        "id": "HKvUi2YHH6J2",
        "outputId": "09d9c000-e04b-4da1-c9e7-b060edec931e"
      },
      "execution_count": null,
      "outputs": [
        {
          "output_type": "stream",
          "name": "stdout",
          "text": [
            "[[ 3  9  5  4]\n",
            " [ 3  9  4  5]\n",
            " [10  6  2  5]]\n",
            "(3, 4)\n",
            "[[ 6  9  4  3  5  4  1  7]\n",
            " [ 2  8  2  3  4  8 10 10]\n",
            " [ 2  8  1  7  8  3 10  8]\n",
            " [ 3  9  4  1  8  9  2  5]]\n",
            "(4, 8)\n"
          ]
        }
      ]
    },
    {
      "cell_type": "code",
      "source": [
        "print(m1.dot(m2))\n",
        "print(np.dot(m1,m2).shape)"
      ],
      "metadata": {
        "colab": {
          "base_uri": "https://localhost:8080/"
        },
        "id": "TqkyDKpXIFJN",
        "outputId": "22f1d726-d30b-41ac-bb9c-25c3e15d02e1"
      },
      "execution_count": null,
      "outputs": [
        {
          "output_type": "stream",
          "name": "stdout",
          "text": [
            "[[ 58 175  51  75 123 135 151 171]\n",
            " [ 59 176  54  69 123 141 143 168]\n",
            " [ 91 199  74  67 130 139 100 171]]\n",
            "(3, 8)\n"
          ]
        }
      ]
    },
    {
      "cell_type": "code",
      "source": [
        "a = np.random.randint(1, 11, size=(2,2))\n",
        "print(a.shape)\n",
        "print(type(a))\n",
        "print(a)\n",
        "print(a.T)"
      ],
      "metadata": {
        "colab": {
          "base_uri": "https://localhost:8080/"
        },
        "id": "cFoHsxkDIbgo",
        "outputId": "8c61f51d-265f-471c-f5da-0730294f739d"
      },
      "execution_count": null,
      "outputs": [
        {
          "output_type": "stream",
          "name": "stdout",
          "text": [
            "(2, 2)\n",
            "<class 'numpy.ndarray'>\n",
            "[[9 6]\n",
            " [1 1]]\n",
            "[[9 1]\n",
            " [6 1]]\n"
          ]
        }
      ]
    },
    {
      "cell_type": "code",
      "source": [
        "#broadcast\n",
        "x = np.random.randint(1, 11, size=(4,3))\n",
        "y = np.array([1,0,2])\n",
        "\n",
        "print(x.shape)\n",
        "print(y.shape)"
      ],
      "metadata": {
        "colab": {
          "base_uri": "https://localhost:8080/"
        },
        "id": "s24DcBN-IoS1",
        "outputId": "960d8176-da92-4dc0-834c-ce6c14fa3e2d"
      },
      "execution_count": null,
      "outputs": [
        {
          "output_type": "stream",
          "name": "stdout",
          "text": [
            "(4, 3)\n",
            "(3,)\n"
          ]
        }
      ]
    },
    {
      "cell_type": "code",
      "source": [
        "z=np.empty_like(x)\n",
        "print(x)\n",
        "print('---------------------')\n",
        "print(y)\n",
        "print(z.shape)\n",
        "print('---------------------')\n",
        "print(z)"
      ],
      "metadata": {
        "colab": {
          "base_uri": "https://localhost:8080/"
        },
        "id": "MaeuOjH8Isou",
        "outputId": "ba0885af-4663-495d-a281-00ce8e822c77"
      },
      "execution_count": null,
      "outputs": [
        {
          "output_type": "stream",
          "name": "stdout",
          "text": [
            "[[6 7 7]\n",
            " [5 3 9]\n",
            " [3 2 2]\n",
            " [2 9 3]]\n",
            "---------------------\n",
            "[1 0 2]\n",
            "(4, 3)\n",
            "---------------------\n",
            "[[7 4 9]\n",
            " [7 8 7]\n",
            " [2 4 9]\n",
            " [2 7 1]]\n"
          ]
        }
      ]
    },
    {
      "cell_type": "code",
      "source": [
        "for i in range(4):\n",
        "  z[i,:]=x[i,:]+y\n",
        "print(z)"
      ],
      "metadata": {
        "colab": {
          "base_uri": "https://localhost:8080/"
        },
        "id": "4a_SWg91JVHz",
        "outputId": "a791adae-3382-4779-8132-3da4f8d1ed7e"
      },
      "execution_count": null,
      "outputs": [
        {
          "output_type": "stream",
          "name": "stdout",
          "text": [
            "[[ 7  7  9]\n",
            " [ 6  3 11]\n",
            " [ 4  2  4]\n",
            " [ 3  9  5]]\n"
          ]
        }
      ]
    },
    {
      "cell_type": "code",
      "source": [
        "z=x+y\n",
        "print(z)"
      ],
      "metadata": {
        "colab": {
          "base_uri": "https://localhost:8080/"
        },
        "id": "_CBtEaahJVox",
        "outputId": "f0dc9f33-71c2-40dc-fd30-b6ac12bc8330"
      },
      "execution_count": null,
      "outputs": [
        {
          "output_type": "stream",
          "name": "stdout",
          "text": [
            "[[ 7  7  9]\n",
            " [ 6  3 11]\n",
            " [ 4  2  4]\n",
            " [ 3  9  5]]\n"
          ]
        }
      ]
    },
    {
      "cell_type": "code",
      "source": [
        "a=np.array([1,2,3])\n",
        "print(a)\n",
        "print('-----------------')\n",
        "\n",
        "b = np.full((6,3),[a])\n",
        "print(b)\n",
        "print('-----------------')\n",
        "\n",
        "c= np.tile(a,(6,1))\n",
        "print(c)"
      ],
      "metadata": {
        "colab": {
          "base_uri": "https://localhost:8080/"
        },
        "id": "gdQVKtPnJYNq",
        "outputId": "66311cdb-7ecd-4eca-9e50-2f5373a5171e"
      },
      "execution_count": null,
      "outputs": [
        {
          "output_type": "stream",
          "name": "stdout",
          "text": [
            "[1 2 3]\n",
            "-----------------\n",
            "[[1 2 3]\n",
            " [1 2 3]\n",
            " [1 2 3]\n",
            " [1 2 3]\n",
            " [1 2 3]\n",
            " [1 2 3]]\n",
            "-----------------\n",
            "[[1 2 3]\n",
            " [1 2 3]\n",
            " [1 2 3]\n",
            " [1 2 3]\n",
            " [1 2 3]\n",
            " [1 2 3]]\n"
          ]
        }
      ]
    },
    {
      "cell_type": "code",
      "source": [
        "m1 = np.random.randint(0, 10, size=(6,6))\n",
        "print(m1)\n",
        "aux=np.mean(m1)\n",
        "print(aux)"
      ],
      "metadata": {
        "colab": {
          "base_uri": "https://localhost:8080/"
        },
        "id": "W_eRZxKwKWJu",
        "outputId": "b9ce7276-13cc-41ad-80dc-38ace05c4b9e"
      },
      "execution_count": null,
      "outputs": [
        {
          "output_type": "stream",
          "name": "stdout",
          "text": [
            "[[0 6 7 4 8 1]\n",
            " [3 9 8 0 5 7]\n",
            " [3 5 8 8 5 3]\n",
            " [2 1 5 7 6 8]\n",
            " [7 9 5 6 0 2]\n",
            " [2 4 7 0 0 2]]\n",
            "4.527777777777778\n"
          ]
        }
      ]
    },
    {
      "cell_type": "code",
      "source": [
        "np.mean(m1, axis=1)\n",
        "np.mean(m1, axis=0)\n",
        "\n",
        "print(np.mean(m1, axis=1))\n",
        "print(np.mean(m1, axis=0))"
      ],
      "metadata": {
        "colab": {
          "base_uri": "https://localhost:8080/"
        },
        "id": "CdFV8gGxKYy_",
        "outputId": "787be598-9dfd-4270-aaa9-2fc832d48af7"
      },
      "execution_count": null,
      "outputs": [
        {
          "output_type": "stream",
          "name": "stdout",
          "text": [
            "[4.33333333 5.33333333 5.33333333 4.83333333 4.83333333 2.5       ]\n",
            "[2.83333333 5.66666667 6.66666667 4.16666667 4.         3.83333333]\n"
          ]
        }
      ]
    },
    {
      "cell_type": "code",
      "source": [],
      "metadata": {
        "id": "ugZ90jgmKiKT"
      },
      "execution_count": null,
      "outputs": []
    }
  ]
}