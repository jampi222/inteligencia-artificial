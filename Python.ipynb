{
  "nbformat": 4,
  "nbformat_minor": 0,
  "metadata": {
    "colab": {
      "provenance": [],
      "include_colab_link": true
    },
    "kernelspec": {
      "name": "python3",
      "display_name": "Python 3"
    },
    "language_info": {
      "name": "python"
    }
  },
  "cells": [
    {
      "cell_type": "markdown",
      "metadata": {
        "id": "view-in-github",
        "colab_type": "text"
      },
      "source": [
        "<a href=\"https://colab.research.google.com/github/jampi222/inteligencia-artificial/blob/main/Python.ipynb\" target=\"_parent\"><img src=\"https://colab.research.google.com/assets/colab-badge.svg\" alt=\"Open In Colab\"/></a>"
      ]
    },
    {
      "cell_type": "code",
      "execution_count": null,
      "metadata": {
        "colab": {
          "base_uri": "https://localhost:8080/"
        },
        "id": "fZBBACoH9w4C",
        "outputId": "cdfe3699-32b5-4124-a243-d47e9332b634"
      },
      "outputs": [
        {
          "output_type": "stream",
          "name": "stdout",
          "text": [
            "Python 3.10.12\n"
          ]
        }
      ],
      "source": [
        "!python --version"
      ]
    },
    {
      "cell_type": "code",
      "source": [
        "miVariable1 = 4"
      ],
      "metadata": {
        "id": "XPK-JKW-96AD"
      },
      "execution_count": null,
      "outputs": []
    },
    {
      "cell_type": "code",
      "source": [
        "miVariable2 = 6"
      ],
      "metadata": {
        "id": "eTFO_fyX99aE"
      },
      "execution_count": null,
      "outputs": []
    },
    {
      "cell_type": "code",
      "source": [
        "print(miVariable1+miVariable2)\n",
        "print(miVariable1-miVariable2)\n",
        "print(miVariable1*miVariable2)\n",
        "print(miVariable1/miVariable2)\n",
        "print(miVariable1^miVariable2)"
      ],
      "metadata": {
        "colab": {
          "base_uri": "https://localhost:8080/"
        },
        "id": "M9FjVAo19_t4",
        "outputId": "9aaf8418-2cb2-401b-8e1d-da3ba436998e"
      },
      "execution_count": null,
      "outputs": [
        {
          "output_type": "stream",
          "name": "stdout",
          "text": [
            "10\n",
            "-2\n",
            "24\n",
            "0.6666666666666666\n",
            "2\n"
          ]
        }
      ]
    },
    {
      "cell_type": "code",
      "source": [
        "aux1 = True\n",
        "aux2 = False\n",
        "\n",
        "print(aux1 and aux2)\n",
        "print(aux1 or aux2)\n",
        "print(not aux1)"
      ],
      "metadata": {
        "colab": {
          "base_uri": "https://localhost:8080/"
        },
        "id": "skKxbDxB-D_y",
        "outputId": "6c868829-9656-4b38-fe25-16446959af54"
      },
      "execution_count": null,
      "outputs": [
        {
          "output_type": "stream",
          "name": "stdout",
          "text": [
            "False\n",
            "True\n",
            "False\n"
          ]
        }
      ]
    },
    {
      "cell_type": "code",
      "source": [
        "presentar = \"My name is \"\n",
        "nombre = \"Andy\"\n",
        "edad = \" and I'm 22 years old\"\n",
        "print(presentar.lower() , nombre , edad.upper())\n"
      ],
      "metadata": {
        "colab": {
          "base_uri": "https://localhost:8080/"
        },
        "id": "a7imdMzm-HVd",
        "outputId": "5f983637-1d59-4371-8273-b833eded4fef"
      },
      "execution_count": null,
      "outputs": [
        {
          "output_type": "stream",
          "name": "stdout",
          "text": [
            "my name is  Andy  AND I'M 22 YEARS OLD\n"
          ]
        }
      ]
    },
    {
      "cell_type": "code",
      "source": [
        "tmp = 'Andy, Joe, Maria, Ana'\n",
        "print(tmp)\n",
        "print(tmp.split(','))"
      ],
      "metadata": {
        "colab": {
          "base_uri": "https://localhost:8080/"
        },
        "id": "bO9cc1qf-OH4",
        "outputId": "bebbaea7-91d2-4ada-b1ab-76fc09c09667"
      },
      "execution_count": null,
      "outputs": [
        {
          "output_type": "stream",
          "name": "stdout",
          "text": [
            "Andy, Joe, Maria, Ana\n",
            "['Andy', ' Joe', ' Maria', ' Ana']\n"
          ]
        }
      ]
    },
    {
      "cell_type": "code",
      "source": [
        "from os import remove\n",
        "from pickle import APPEND\n",
        "listaUtiles=['notebook','pen','pencil','eraser','ruler']\n",
        "print(listaUtiles)\n",
        "listaUtiles.append('computer')\n",
        "print(listaUtiles)\n",
        "#Así comento lienas de código en python\n",
        "#listaUtiles\n",
        "del listaUtiles[1]\n",
        "print(listaUtiles)"
      ],
      "metadata": {
        "colab": {
          "base_uri": "https://localhost:8080/"
        },
        "id": "w72u_Z11-YN3",
        "outputId": "f110e0f0-9052-47a9-f15c-4c1feef3f66d"
      },
      "execution_count": null,
      "outputs": [
        {
          "output_type": "stream",
          "name": "stdout",
          "text": [
            "['notebook', 'pen', 'pencil', 'eraser', 'ruler']\n",
            "['notebook', 'pen', 'pencil', 'eraser', 'ruler', 'computer']\n",
            "['notebook', 'pencil', 'eraser', 'ruler', 'computer']\n"
          ]
        }
      ]
    },
    {
      "cell_type": "code",
      "source": [
        "lista = ['cuaderno','cuaderno','cuaderno','cuaderno']\n",
        "lista.remove('cuaderno')\n",
        "print(lista)"
      ],
      "metadata": {
        "colab": {
          "base_uri": "https://localhost:8080/"
        },
        "id": "TuXQm4yO-g6v",
        "outputId": "8604e1e3-7e5f-40d5-9bc1-ba0a5605e6bd"
      },
      "execution_count": null,
      "outputs": [
        {
          "output_type": "stream",
          "name": "stdout",
          "text": [
            "['cuaderno', 'cuaderno', 'cuaderno']\n"
          ]
        }
      ]
    },
    {
      "cell_type": "code",
      "source": [
        "nuevaLista=list(range(15))\n",
        "print(nuevaLista)\n",
        "print(nuevaLista[4:11])\n",
        "print(nuevaLista[-3])\n",
        "print(nuevaLista[10:5])"
      ],
      "metadata": {
        "colab": {
          "base_uri": "https://localhost:8080/"
        },
        "id": "7PyApukb-jNA",
        "outputId": "1269c88e-0bfa-4af3-db83-1f836d852cce"
      },
      "execution_count": null,
      "outputs": [
        {
          "output_type": "stream",
          "name": "stdout",
          "text": [
            "[0, 1, 2, 3, 4, 5, 6, 7, 8, 9, 10, 11, 12, 13, 14]\n",
            "[4, 5, 6, 7, 8, 9, 10]\n",
            "12\n",
            "[]\n"
          ]
        }
      ]
    },
    {
      "cell_type": "code",
      "source": [],
      "metadata": {
        "id": "zhjB2u1F-lYW"
      },
      "execution_count": null,
      "outputs": []
    }
  ]
}