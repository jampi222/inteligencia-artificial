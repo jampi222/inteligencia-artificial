{
  "nbformat": 4,
  "nbformat_minor": 0,
  "metadata": {
    "colab": {
      "provenance": [],
      "include_colab_link": true
    },
    "kernelspec": {
      "name": "python3",
      "display_name": "Python 3"
    },
    "language_info": {
      "name": "python"
    }
  },
  "cells": [
    {
      "cell_type": "markdown",
      "metadata": {
        "id": "view-in-github",
        "colab_type": "text"
      },
      "source": [
        "<a href=\"https://colab.research.google.com/github/jampi222/inteligencia-artificial/blob/main/numpy1.ipynb\" target=\"_parent\"><img src=\"https://colab.research.google.com/assets/colab-badge.svg\" alt=\"Open In Colab\"/></a>"
      ]
    },
    {
      "cell_type": "code",
      "execution_count": null,
      "metadata": {
        "colab": {
          "base_uri": "https://localhost:8080/"
        },
        "id": "Pyn9vAgXNNgM",
        "outputId": "4f1cc9ad-3f57-452b-82b2-b5320dc73279"
      },
      "outputs": [
        {
          "output_type": "stream",
          "name": "stdout",
          "text": [
            "{1, 2, 4, 5}\n",
            "()\n",
            "(2, 4)\n",
            "[[1 2 3 4]\n",
            " [1 2 3 4]]\n",
            "<class 'numpy.ndarray'>\n",
            "[[0. 0. 0. 0.]\n",
            " [0. 0. 0. 0.]\n",
            " [0. 0. 0. 0.]\n",
            " [0. 0. 0. 0.]]\n",
            "[[5 5 5 5]\n",
            " [5 5 5 5]\n",
            " [5 5 5 5]\n",
            " [5 5 5 5]]\n",
            "[[1. 0. 0. 0.]\n",
            " [0. 1. 0. 0.]\n",
            " [0. 0. 1. 0.]\n",
            " [0. 0. 0. 1.]]\n",
            "--------------\n",
            "[[1. 1. 1. 1.]\n",
            " [1. 1. 1. 1.]\n",
            " [1. 1. 1. 1.]\n",
            " [1. 1. 1. 1.]]\n"
          ]
        }
      ],
      "source": [
        "import numpy as np\n",
        "\n",
        "aux=np.array({1,2,4,5})\n",
        "print(aux)\n",
        "print(aux.shape)\n",
        "\n",
        "\n",
        "aux=np.array([[1,2,3,4],[1,2,3,4]])\n",
        "print(aux.shape)\n",
        "print(aux)\n",
        "print(type(aux))\n",
        "\n",
        "\n",
        "\n",
        "tmp=np.zeros((4,4))\n",
        "print(tmp)\n",
        "\n",
        "tmp=np.full((4,4),5)\n",
        "print(tmp)\n",
        "\n",
        "\n",
        "tmp=np.eye(4,4)\n",
        "print(tmp)\n",
        "\n",
        "\n",
        "print('--------------')\n",
        "tmp=np.ones((4,4))\n",
        "print(tmp)"
      ]
    },
    {
      "cell_type": "code",
      "source": [
        "tmp=10*np.random.random((3,3))\n",
        "print(tmp)\n",
        "\n"
      ],
      "metadata": {
        "colab": {
          "base_uri": "https://localhost:8080/"
        },
        "id": "NJQ4geHORiCk",
        "outputId": "4b2e215e-d03f-42f9-a524-37623e151849"
      },
      "execution_count": null,
      "outputs": [
        {
          "output_type": "stream",
          "name": "stdout",
          "text": [
            "[[6.01037708 1.61261523 0.79273471]\n",
            " [1.62805293 8.63841385 1.98933707]\n",
            " [5.12136548 8.18126408 7.4007034 ]]\n"
          ]
        }
      ]
    },
    {
      "cell_type": "code",
      "source": [
        "print(tmp[:2,:2])"
      ],
      "metadata": {
        "colab": {
          "base_uri": "https://localhost:8080/"
        },
        "id": "sW6pHe14SKvY",
        "outputId": "4737b56c-8b43-452a-f4f3-87f94e0ecfd4"
      },
      "execution_count": null,
      "outputs": [
        {
          "output_type": "stream",
          "name": "stdout",
          "text": [
            "[[6.01037708 1.61261523]\n",
            " [1.62805293 8.63841385]]\n"
          ]
        }
      ]
    },
    {
      "cell_type": "code",
      "source": [
        "print(tmp[:2,1:3])"
      ],
      "metadata": {
        "colab": {
          "base_uri": "https://localhost:8080/"
        },
        "id": "bI0MxAP_S50Y",
        "outputId": "ee7842ec-fe44-4937-eb84-8177d02a24ae"
      },
      "execution_count": null,
      "outputs": [
        {
          "output_type": "stream",
          "name": "stdout",
          "text": [
            "[[1.61261523 0.79273471]\n",
            " [8.63841385 1.98933707]]\n"
          ]
        }
      ]
    },
    {
      "cell_type": "code",
      "source": [
        "print(tmp[:1,1])\n",
        "print(tmp[2,2])\n",
        "print(tmp[2,1:3])"
      ],
      "metadata": {
        "colab": {
          "base_uri": "https://localhost:8080/"
        },
        "id": "7kzDSz82TIpI",
        "outputId": "8a01a959-d370-4bea-9988-4e69545cb518"
      },
      "execution_count": null,
      "outputs": [
        {
          "output_type": "stream",
          "name": "stdout",
          "text": [
            "[1.61261523]\n",
            "7.4007033951942445\n",
            "[8.18126408 7.4007034 ]\n"
          ]
        }
      ]
    },
    {
      "cell_type": "code",
      "source": [
        "tmp=10*np.random.random((3,3))\n",
        "print(tmp)\n"
      ],
      "metadata": {
        "colab": {
          "base_uri": "https://localhost:8080/"
        },
        "id": "tJKt5I6AT84L",
        "outputId": "8811f3d2-8bfe-4c39-b61f-6e6fd998999a"
      },
      "execution_count": null,
      "outputs": [
        {
          "output_type": "stream",
          "name": "stdout",
          "text": [
            "[[5.84830279 9.62548768 8.96932321]\n",
            " [1.16339102 7.37356925 7.88714608]\n",
            " [4.18479057 7.22096919 3.67385514]]\n"
          ]
        }
      ]
    },
    {
      "cell_type": "code",
      "source": [
        "mask=(tmp>=2)&(tmp<=4)\n"
      ],
      "metadata": {
        "colab": {
          "base_uri": "https://localhost:8080/"
        },
        "id": "2PrNs4uMUH3m",
        "outputId": "ee699fc0-7e0b-47fb-b8fc-6ed0e8d4df34"
      },
      "execution_count": null,
      "outputs": [
        {
          "output_type": "stream",
          "name": "stdout",
          "text": [
            "[3.67385514]\n"
          ]
        }
      ]
    },
    {
      "cell_type": "code",
      "source": [
        "tmp= np.random.randint(1, 101, (4, 4))\n",
        "print(tmp)\n",
        "mask =np.mod(tmp, 2) == 0\n",
        "matriz_pares = tmp[mask]\n",
        "print(tmp[mask])"
      ],
      "metadata": {
        "colab": {
          "base_uri": "https://localhost:8080/"
        },
        "id": "jNiyMwjOWWbr",
        "outputId": "6bf9d29e-91ee-4180-9f3d-446963a2200c"
      },
      "execution_count": null,
      "outputs": [
        {
          "output_type": "stream",
          "name": "stdout",
          "text": [
            "[[99 60 90 53]\n",
            " [97 95 79 26]\n",
            " [56 47 32 76]\n",
            " [78 29 19 36]]\n",
            "[60 90 26 56 32 76 78 36]\n"
          ]
        }
      ]
    },
    {
      "cell_type": "code",
      "source": [],
      "metadata": {
        "id": "TigAXi4uW6AE"
      },
      "execution_count": null,
      "outputs": []
    }
  ]
}