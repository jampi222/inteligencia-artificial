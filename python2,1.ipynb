{
  "nbformat": 4,
  "nbformat_minor": 0,
  "metadata": {
    "colab": {
      "provenance": [],
      "include_colab_link": true
    },
    "kernelspec": {
      "name": "python3",
      "display_name": "Python 3"
    },
    "language_info": {
      "name": "python"
    }
  },
  "cells": [
    {
      "cell_type": "markdown",
      "metadata": {
        "id": "view-in-github",
        "colab_type": "text"
      },
      "source": [
        "<a href=\"https://colab.research.google.com/github/jampi222/inteligencia-artificial/blob/main/python2%2C1.ipynb\" target=\"_parent\"><img src=\"https://colab.research.google.com/assets/colab-badge.svg\" alt=\"Open In Colab\"/></a>"
      ]
    },
    {
      "cell_type": "markdown",
      "source": [
        "MY dictionary"
      ],
      "metadata": {
        "id": "QL1qVJB5_sUF"
      }
    },
    {
      "cell_type": "code",
      "source": [
        "miDiccionario = {'cat':'bonito', 'dog':'angry', 'lion':'strong'}\n",
        "\n",
        "print(type(miDiccionario))\n",
        "\n",
        "for key, value in miDiccionario.items():\n",
        "  print(f'key {key}, value {value}')\n",
        "  print('key %s, value %s'%(key,value))\n",
        "  print('the key value is: {} and the value is: {}'.format(key, value))\n",
        "miDiccionario['monkey']='so cute'\n",
        "\n",
        "print('------------------')\n",
        "print(miDiccionario)"
      ],
      "metadata": {
        "colab": {
          "base_uri": "https://localhost:8080/"
        },
        "id": "fxjdWMKk_vf_",
        "outputId": "5c0fb480-e8bf-4c9a-dc5a-ae6f04ab1b23"
      },
      "execution_count": null,
      "outputs": [
        {
          "output_type": "stream",
          "name": "stdout",
          "text": [
            "<class 'dict'>\n",
            "key cat, value bonito\n",
            "key cat, value bonito\n",
            "the key value is: cat and the value is: bonito\n",
            "key dog, value angry\n",
            "key dog, value angry\n",
            "the key value is: dog and the value is: angry\n",
            "key lion, value strong\n",
            "key lion, value strong\n",
            "the key value is: lion and the value is: strong\n",
            "------------------\n",
            "{'cat': 'bonito', 'dog': 'angry', 'lion': 'strong', 'monkey': 'so cute'}\n"
          ]
        }
      ]
    },
    {
      "cell_type": "code",
      "source": [],
      "metadata": {
        "id": "0m69pUws_xnK"
      },
      "execution_count": null,
      "outputs": []
    }
  ]
}