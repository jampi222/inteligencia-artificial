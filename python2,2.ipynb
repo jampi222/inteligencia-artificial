{
  "nbformat": 4,
  "nbformat_minor": 0,
  "metadata": {
    "colab": {
      "provenance": [],
      "include_colab_link": true
    },
    "kernelspec": {
      "name": "python3",
      "display_name": "Python 3"
    },
    "language_info": {
      "name": "python"
    }
  },
  "cells": [
    {
      "cell_type": "markdown",
      "metadata": {
        "id": "view-in-github",
        "colab_type": "text"
      },
      "source": [
        "<a href=\"https://colab.research.google.com/github/jampi222/inteligencia-artificial/blob/main/python2%2C2.ipynb\" target=\"_parent\"><img src=\"https://colab.research.google.com/assets/colab-badge.svg\" alt=\"Open In Colab\"/></a>"
      ]
    },
    {
      "cell_type": "code",
      "execution_count": null,
      "metadata": {
        "colab": {
          "base_uri": "https://localhost:8080/"
        },
        "id": "WBDxzL8EAQFA",
        "outputId": "f3315154-9311-48fd-955f-d756392d1e5d"
      },
      "outputs": [
        {
          "output_type": "stream",
          "name": "stdout",
          "text": [
            "Python 3.10.12\n"
          ]
        }
      ],
      "source": [
        "!python --version"
      ]
    },
    {
      "cell_type": "markdown",
      "source": [
        "Basic data types"
      ],
      "metadata": {
        "id": "yw7GfZ9yAbkc"
      }
    },
    {
      "cell_type": "code",
      "source": [
        "variable1=10\n",
        "variable2=2.2\n",
        "variable3='Parangaricutirimicuaro'\n",
        "print(type(variable1))\n",
        "print(type(variable2))\n",
        "print(type(variable3))\n",
        "\n",
        "\n",
        "print(variable1+variable2)\n",
        "print(variable1-variable2)\n",
        "print(variable1*variable2)\n",
        "print(variable1/variable2)\n",
        "\n",
        "v1=True\n",
        "v2=False"
      ],
      "metadata": {
        "colab": {
          "base_uri": "https://localhost:8080/"
        },
        "id": "ThKCKgm4AZMv",
        "outputId": "fa7605e5-6f27-4a0d-d0e0-30d322762b94"
      },
      "execution_count": null,
      "outputs": [
        {
          "output_type": "stream",
          "name": "stdout",
          "text": [
            "<class 'int'>\n",
            "<class 'float'>\n",
            "<class 'str'>\n",
            "12.2\n",
            "7.8\n",
            "22.0\n",
            "4.545454545454545\n"
          ]
        }
      ]
    },
    {
      "cell_type": "markdown",
      "source": [
        "lIST"
      ],
      "metadata": {
        "id": "0VccPS_IAjK8"
      }
    },
    {
      "cell_type": "code",
      "source": [
        "algunaLista=list()\n",
        "algunaLista=['borrador','cuaderno','goma','lápiz','mochila','esferos','lapices de colores',True]\n",
        "print(algunaLista[2])\n",
        "print(algunaLista[7])\n",
        "print(len(algunaLista))\n",
        "print('--------------------')\n",
        "\n",
        "print(algunaLista[0:4])"
      ],
      "metadata": {
        "colab": {
          "base_uri": "https://localhost:8080/"
        },
        "id": "2qBccXOEAkP6",
        "outputId": "ebe9e0df-bf23-4518-df10-ed8888b55565"
      },
      "execution_count": null,
      "outputs": [
        {
          "output_type": "stream",
          "name": "stdout",
          "text": [
            "goma\n",
            "True\n",
            "8\n",
            "--------------------\n",
            "['borrador', 'cuaderno', 'goma', 'lápiz']\n"
          ]
        }
      ]
    },
    {
      "cell_type": "markdown",
      "source": [
        " DictionarY"
      ],
      "metadata": {
        "id": "WRfskMaxAz5Q"
      }
    },
    {
      "cell_type": "code",
      "source": [
        "d={'name':'lUIS','age':25,'city':'El Carmen'}\n",
        "\n",
        "\n",
        "for key in d:\n",
        "  print(d[key])"
      ],
      "metadata": {
        "colab": {
          "base_uri": "https://localhost:8080/"
        },
        "id": "IETX2ayjA3zo",
        "outputId": "43623ed7-8181-4c27-9036-c26e73802223"
      },
      "execution_count": null,
      "outputs": [
        {
          "output_type": "stream",
          "name": "stdout",
          "text": [
            "lUIS\n",
            "25\n",
            "El Carmen\n"
          ]
        }
      ]
    },
    {
      "cell_type": "code",
      "source": [],
      "metadata": {
        "id": "CZrMD5-bApda"
      },
      "execution_count": null,
      "outputs": []
    },
    {
      "cell_type": "code",
      "source": [],
      "metadata": {
        "id": "h2hDAmedAf-q"
      },
      "execution_count": null,
      "outputs": []
    }
  ]
}