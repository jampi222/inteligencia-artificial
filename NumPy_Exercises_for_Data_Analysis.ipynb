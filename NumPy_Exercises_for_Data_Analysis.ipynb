{
  "nbformat": 4,
  "nbformat_minor": 0,
  "metadata": {
    "colab": {
      "provenance": [],
      "include_colab_link": true
    },
    "kernelspec": {
      "name": "python3",
      "display_name": "Python 3"
    },
    "language_info": {
      "name": "python"
    }
  },
  "cells": [
    {
      "cell_type": "markdown",
      "metadata": {
        "id": "view-in-github",
        "colab_type": "text"
      },
      "source": [
        "<a href=\"https://colab.research.google.com/github/jampi222/inteligencia-artificial/blob/main/NumPy_Exercises_for_Data_Analysis.ipynb\" target=\"_parent\"><img src=\"https://colab.research.google.com/assets/colab-badge.svg\" alt=\"Open In Colab\"/></a>"
      ]
    },
    {
      "cell_type": "markdown",
      "source": [
        "NumPy Exercises for Data Analysis"
      ],
      "metadata": {
        "id": "hSsi2_-klame"
      }
    },
    {
      "cell_type": "code",
      "source": [
        "# Import numpy as np and see the version\n",
        "\n",
        "# your code here\n",
        "import numpy as np\n",
        "\n",
        "pass"
      ],
      "metadata": {
        "id": "kuK4TNepldem"
      },
      "execution_count": null,
      "outputs": []
    },
    {
      "cell_type": "code",
      "source": [
        "# Create a 1D array of numbers from 0 to 9\n",
        "# your code here\n",
        "lista=list(range(9))\n",
        "print(lista)\n",
        "\n",
        "pass"
      ],
      "metadata": {
        "id": "hbYX-oMBlvS-",
        "outputId": "5e87d686-1426-4b4c-f732-3c4f63f048ad",
        "colab": {
          "base_uri": "https://localhost:8080/"
        }
      },
      "execution_count": null,
      "outputs": [
        {
          "output_type": "stream",
          "name": "stdout",
          "text": [
            "[0, 1, 2, 3, 4, 5, 6, 7, 8]\n"
          ]
        }
      ]
    },
    {
      "cell_type": "code",
      "source": [
        "# Create random vector of size 10 and replace the maximum value by 0\n",
        "\n",
        "vector = np.random.rand(10)\n",
        "vector[vector.argmax()] = 0\n",
        "print(vector)\n",
        "\n",
        "pass"
      ],
      "metadata": {
        "id": "HfsNmdvrwqsO",
        "outputId": "14e250a5-ce03-4937-ea6a-71cb880a42ec",
        "colab": {
          "base_uri": "https://localhost:8080/"
        }
      },
      "execution_count": null,
      "outputs": [
        {
          "output_type": "stream",
          "name": "stdout",
          "text": [
            "[0.04507964 0.28489245 0.33287752 0.49804911 0.         0.83389926\n",
            " 0.56362999 0.29622543 0.30481746 0.71547349]\n"
          ]
        }
      ]
    },
    {
      "cell_type": "code",
      "source": [
        "# Print the number 8 from the array below:\n",
        "arr = np.array([[1,2,3,4,5], [6,7,8,9,10]])\n",
        "print(arr[1, 2])\n",
        "\n",
        "pass"
      ],
      "metadata": {
        "id": "a9T-W3uUoqcE",
        "outputId": "09ce334b-744f-4c87-c527-f9fdbd5b9557",
        "colab": {
          "base_uri": "https://localhost:8080/"
        }
      },
      "execution_count": null,
      "outputs": [
        {
          "output_type": "stream",
          "name": "stdout",
          "text": [
            "3\n"
          ]
        }
      ]
    },
    {
      "cell_type": "code",
      "source": [
        "# Print the numbers [3, 4, 5] from the array below:\n",
        "arr = np.array([1,2,3,4,5,6,7])\n",
        "print(arr[2:5])\n",
        "pass"
      ],
      "metadata": {
        "id": "PqvPijs8o2ub",
        "outputId": "a1c2aac4-98f4-4c2b-d457-b65dd2e5f846",
        "colab": {
          "base_uri": "https://localhost:8080/"
        }
      },
      "execution_count": null,
      "outputs": [
        {
          "output_type": "stream",
          "name": "stdout",
          "text": [
            "[3 4 5]\n"
          ]
        }
      ]
    },
    {
      "cell_type": "code",
      "source": [
        "# Print the last 4 numbers from the array below:\n",
        "arr = np.array([1,2,3,4,5,6,7])\n",
        "print(arr[3:])\n",
        "pass"
      ],
      "metadata": {
        "id": "H5iUCizHpk0L",
        "outputId": "dd28d54a-351c-4215-ff58-f78af8343b39",
        "colab": {
          "base_uri": "https://localhost:8080/"
        }
      },
      "execution_count": null,
      "outputs": [
        {
          "output_type": "stream",
          "name": "stdout",
          "text": [
            "[4 5 6 7]\n"
          ]
        }
      ]
    },
    {
      "cell_type": "code",
      "source": [
        "# Create a 3×3 numpy array of all True’s\n",
        "tmp=10*np.random.random((4,4))\n",
        "mascara=tmp>0\n",
        "print(tmp)\n",
        "print(\"-------------------\")\n",
        "print(mascara)\n",
        "pass"
      ],
      "metadata": {
        "id": "C9nBztXhl9NA",
        "outputId": "530b7fe5-9807-4b50-ec50-a85a9858b2dc",
        "colab": {
          "base_uri": "https://localhost:8080/"
        }
      },
      "execution_count": null,
      "outputs": [
        {
          "output_type": "stream",
          "name": "stdout",
          "text": [
            "[[2.90384324 8.2221414  1.23416637 9.89705603]\n",
            " [8.25403658 1.08290482 1.33847542 5.29716   ]\n",
            " [8.88705488 5.25963837 8.86083311 5.0515128 ]\n",
            " [8.33271837 3.77084317 4.85051395 3.00746799]]\n",
            "-------------------\n",
            "[[ True  True  True  True]\n",
            " [ True  True  True  True]\n",
            " [ True  True  True  True]\n",
            " [ True  True  True  True]]\n"
          ]
        }
      ]
    },
    {
      "cell_type": "code",
      "source": [
        "# Extract all odd numbers from arr\n",
        "tmp = np.random.randint(1, 11, size=(4, 4))\n",
        "print(tmp)\n",
        "print('----------------------------------')\n",
        "mask = np.mod(tmp, 2) == 0\n",
        "print(tmp[mask])\n",
        "pass"
      ],
      "metadata": {
        "id": "W18lqbBwmIhw",
        "outputId": "3c250812-dfa6-45f7-ca61-f09aecc90c97",
        "colab": {
          "base_uri": "https://localhost:8080/"
        }
      },
      "execution_count": null,
      "outputs": [
        {
          "output_type": "stream",
          "name": "stdout",
          "text": [
            "[[ 4  7 10  2]\n",
            " [ 8 10  5  6]\n",
            " [ 7 10  8  2]\n",
            " [ 4  1  1  7]]\n",
            "----------------------------------\n",
            "[ 4 10  2  8 10  6 10  8  2  4]\n"
          ]
        }
      ]
    },
    {
      "cell_type": "code",
      "source": [
        "# Create a vector with values ranging from 10 to 49 (★☆☆)\n",
        "tmp = np.arange(10,50)\n",
        "print(tmp)\n",
        "pass\n"
      ],
      "metadata": {
        "id": "hA9iXCAwr55v",
        "outputId": "bed20ea8-b871-4b61-eeb2-f912b71995bf",
        "colab": {
          "base_uri": "https://localhost:8080/"
        }
      },
      "execution_count": null,
      "outputs": [
        {
          "output_type": "stream",
          "name": "stdout",
          "text": [
            "[10 11 12 13 14 15 16 17 18 19 20 21 22 23 24 25 26 27 28 29 30 31 32 33\n",
            " 34 35 36 37 38 39 40 41 42 43 44 45 46 47 48 49]\n"
          ]
        }
      ]
    },
    {
      "cell_type": "code",
      "source": [
        "# Reverse a vector (first element becomes last)\n",
        "vectorInvertido = tmp[::-1]\n",
        "print(vectorInvertido)\n",
        "pass"
      ],
      "metadata": {
        "id": "R-_IjeHyr83q",
        "outputId": "c36c6f94-ad40-41af-8c64-906448467e91",
        "colab": {
          "base_uri": "https://localhost:8080/"
        }
      },
      "execution_count": null,
      "outputs": [
        {
          "output_type": "stream",
          "name": "stdout",
          "text": [
            "[49 48 47 46 45 44 43 42 41 40 39 38 37 36 35 34 33 32 31 30 29 28 27 26\n",
            " 25 24 23 22 21 20 19 18 17 16 15 14 13 12 11 10]\n"
          ]
        }
      ]
    },
    {
      "cell_type": "code",
      "source": [
        "#  Create a 10x10 array with random integer values and find the minimum and maximum values\n",
        "tmp = np.random.randint(1, 101, size=(10, 10))\n",
        "minimo = np.min(tmp)\n",
        "maximo = np.max(tmp)\n",
        "print(\"Matriz\")\n",
        "print(tmp)\n",
        "print(\"Minimo\")\n",
        "print(minimo)\n",
        "print(\"Maximo\")\n",
        "print(maximo)\n",
        "pass"
      ],
      "metadata": {
        "id": "rEWwl_weuq3B",
        "outputId": "92df3d96-fd25-4559-cf11-4b7a9470b67a",
        "colab": {
          "base_uri": "https://localhost:8080/"
        }
      },
      "execution_count": null,
      "outputs": [
        {
          "output_type": "stream",
          "name": "stdout",
          "text": [
            "Matriz\n",
            "[[36 20 58 35 18 59 60 14 97 58]\n",
            " [33 10 35 44  6 98 95 56 74 28]\n",
            " [79 35 46 82 76 15 99  8 57 56]\n",
            " [17 35  3 42 72 49 55 12 93 36]\n",
            " [83 67 92 17 81  7 16 19 72 39]\n",
            " [87 46 96 34 11 36 15 59 99 11]\n",
            " [67 98 86 22 76  1 54 35 11 47]\n",
            " [ 8 70 76 41 13 23 67 52 73 73]\n",
            " [47 24 68 28 55 44 57 18 71 58]\n",
            " [42  3 32 72 41 16 88 99 79 39]]\n",
            "Minimo\n",
            "1\n",
            "Maximo\n",
            "99\n"
          ]
        }
      ]
    },
    {
      "cell_type": "code",
      "source": [
        "# Create a 3x3x3 array with random values\n",
        "tmp2 = np.random.random((3,3,3))\n",
        "print(tmp2)\n",
        "pass"
      ],
      "metadata": {
        "id": "KFy17KsvvSql",
        "outputId": "0fe5ab94-54e9-4cef-d3be-ef19e1a1d667",
        "colab": {
          "base_uri": "https://localhost:8080/"
        }
      },
      "execution_count": null,
      "outputs": [
        {
          "output_type": "stream",
          "name": "stdout",
          "text": [
            "[[[0.02532287 0.58746211 0.99276791]\n",
            "  [0.09842987 0.82190545 0.67882362]\n",
            "  [0.23171878 0.61472569 0.49007923]]\n",
            "\n",
            " [[0.56468038 0.17679589 0.42654151]\n",
            "  [0.99877447 0.14243331 0.69334788]\n",
            "  [0.25992708 0.96738694 0.10550177]]\n",
            "\n",
            " [[0.6118451  0.43930339 0.68948133]\n",
            "  [0.24435386 0.56082893 0.6067768 ]\n",
            "  [0.63489637 0.14017572 0.89028616]]]\n"
          ]
        }
      ]
    },
    {
      "cell_type": "code",
      "source": [
        "# Replace all odd numbers in arr with -1\n",
        "tmp = np.random.randint(1, 11, size=(3, 3, 3))\n",
        "print(tmp)\n",
        "print(\"-----------------\")\n",
        "tmp[tmp % 2 == 1] = -1\n",
        "print(tmp)\n",
        "pass"
      ],
      "metadata": {
        "id": "X7ol3alqmbNa",
        "outputId": "8b58a89a-f132-4b92-8560-82654365c262",
        "colab": {
          "base_uri": "https://localhost:8080/"
        }
      },
      "execution_count": null,
      "outputs": [
        {
          "output_type": "stream",
          "name": "stdout",
          "text": [
            "[[[ 4  7  3]\n",
            "  [ 3  8  4]\n",
            "  [ 9  5  1]]\n",
            "\n",
            " [[ 3 10  5]\n",
            "  [10 10  7]\n",
            "  [ 2  2  5]]\n",
            "\n",
            " [[ 3 10 10]\n",
            "  [ 8  6  6]\n",
            "  [10  6  4]]]\n",
            "-----------------\n",
            "[[[ 4 -1 -1]\n",
            "  [-1  8  4]\n",
            "  [-1 -1 -1]]\n",
            "\n",
            " [[-1 10 -1]\n",
            "  [10 10 -1]\n",
            "  [ 2  2 -1]]\n",
            "\n",
            " [[-1 10 10]\n",
            "  [ 8  6  6]\n",
            "  [10  6  4]]]\n"
          ]
        }
      ]
    },
    {
      "cell_type": "code",
      "source": [
        "# Create an array of type float\n",
        "tmpF = np.random.rand(5)\n",
        "print(tmpF)\n",
        "pass"
      ],
      "metadata": {
        "id": "GwdXYn9HqYTL",
        "outputId": "1eb409f1-04cd-4362-de25-bcff6a115371",
        "colab": {
          "base_uri": "https://localhost:8080/"
        }
      },
      "execution_count": null,
      "outputs": [
        {
          "output_type": "stream",
          "name": "stdout",
          "text": [
            "[0.64222767 0.3895969  0.9878147  0.07916834 0.68063379]\n"
          ]
        }
      ]
    },
    {
      "cell_type": "code",
      "source": [
        "# Convert a 1D array to a 2D array with 2 rows\n",
        "lista = list(range(12))\n",
        "lista = np.array(lista)\n",
        "two_d_array = lista.reshape(2, 6)\n",
        "print(two_d_array)\n",
        "\n",
        "pass"
      ],
      "metadata": {
        "id": "LvcL1lUYoPjN",
        "outputId": "dd31c055-e52b-44db-8cf4-a1b184ab23d9",
        "colab": {
          "base_uri": "https://localhost:8080/"
        }
      },
      "execution_count": null,
      "outputs": [
        {
          "output_type": "stream",
          "name": "stdout",
          "text": [
            "[[ 0  1  2  3  4  5]\n",
            " [ 6  7  8  9 10 11]]\n"
          ]
        }
      ]
    },
    {
      "cell_type": "code",
      "source": [
        "# How to find common values between two arrays?\n",
        "\n",
        "Z1 = np.random.randint(0,10,10)\n",
        "Z2 = np.random.randint(0,10,10)\n",
        "valoresComunes = np.intersect1d(Z1, Z2)\n",
        "print(Z1)\n",
        "print(\"-------------\")\n",
        "print(Z2)\n",
        "print(\"-------------\")\n",
        "print(valoresComunes)\n",
        "pass"
      ],
      "metadata": {
        "id": "VbzMDKQvv0DX",
        "outputId": "9e8cab75-3144-4a16-f351-ca7abc1c875c",
        "colab": {
          "base_uri": "https://localhost:8080/"
        }
      },
      "execution_count": null,
      "outputs": [
        {
          "output_type": "stream",
          "name": "stdout",
          "text": [
            "[7 9 2 0 6 1 2 4 4 9]\n",
            "-------------\n",
            "[9 4 4 4 9 1 0 8 5 4]\n",
            "-------------\n",
            "[0 1 4 9]\n"
          ]
        }
      ]
    },
    {
      "cell_type": "code",
      "source": [
        "#  Consider two random array A and B, check if they are equal\n",
        "\n",
        "A = np.random.randint(0,2,5)\n",
        "B = np.random.randint(0,2,5)\n",
        "\n",
        "print('Array A')\n",
        "print(A)\n",
        "print('Array B')\n",
        "print(B)\n",
        "\n",
        "if np.array_equal(A,B):\n",
        "  print('Son iguales')\n",
        "else:\n",
        "  print('Son diferentes')\n",
        "\n",
        "pass"
      ],
      "metadata": {
        "id": "RWWspnDAwWGV",
        "colab": {
          "base_uri": "https://localhost:8080/"
        },
        "outputId": "c1e81e4b-058c-4445-8353-59dbdda35e3a"
      },
      "execution_count": null,
      "outputs": [
        {
          "output_type": "stream",
          "name": "stdout",
          "text": [
            "Array A\n",
            "[1 1 1 0 0]\n",
            "Array B\n",
            "[1 1 0 1 0]\n",
            "Son diferentes\n"
          ]
        }
      ]
    },
    {
      "cell_type": "code",
      "source": [
        "# Stack arrays a and b vertically\n",
        "print('Array A')\n",
        "print(A)\n",
        "print('Array B')\n",
        "print(B)\n",
        "matrizApiladaVertical = np.vstack((A, B))\n",
        "print(\"Stacked Array:\")\n",
        "print(matrizApiladaVertical)\n",
        "pass"
      ],
      "metadata": {
        "id": "SW3KvPXhoeie",
        "colab": {
          "base_uri": "https://localhost:8080/"
        },
        "outputId": "d34e314d-d3a2-4916-e05a-7f5c6c254ce7"
      },
      "execution_count": null,
      "outputs": [
        {
          "output_type": "stream",
          "name": "stdout",
          "text": [
            "Array A\n",
            "[1 1 1 0 0]\n",
            "Array B\n",
            "[1 1 0 1 0]\n",
            "Stacked Array:\n",
            " [[1 1 1 0 0]\n",
            " [1 1 0 1 0]]\n"
          ]
        }
      ]
    },
    {
      "cell_type": "code",
      "source": [
        "# Stack the arrays a and b horizontally.\n",
        "print('Array A')\n",
        "print(A)\n",
        "print('Array B')\n",
        "print(B)\n",
        "matrizApiladaHorizontal = np.hstack((A, B))\n",
        "print(\"Stacked Array:\")\n",
        "print(matrizApiladaHorizontal)\n",
        "pass"
      ],
      "metadata": {
        "id": "6wVOpIT9omwe",
        "colab": {
          "base_uri": "https://localhost:8080/"
        },
        "outputId": "6a0137de-803e-402a-899d-0b4a27b930ca"
      },
      "execution_count": null,
      "outputs": [
        {
          "output_type": "stream",
          "name": "stdout",
          "text": [
            "Array A\n",
            "[1 1 1 0 0]\n",
            "Array B\n",
            "[1 1 0 1 0]\n",
            "Stacked Array:\n",
            "[1 1 1 0 0 1 1 0 1 0]\n"
          ]
        }
      ]
    },
    {
      "cell_type": "code",
      "source": [
        "# Get all items between 5 and 10 from array tmp.\n",
        "# your code here\n",
        "import numpy as np\n",
        "tmp = np.arange(15)\n",
        "print(tmp)\n",
        "print('-------------')\n",
        "valores = tmp[(tmp>=5)&(tmp<=10)]\n",
        "print(valores)\n",
        "# pass"
      ],
      "metadata": {
        "id": "L_7vMkGOo0gX",
        "colab": {
          "base_uri": "https://localhost:8080/"
        },
        "outputId": "16183da9-e4e9-4503-f70b-ba6d9dd3438b"
      },
      "execution_count": null,
      "outputs": [
        {
          "output_type": "stream",
          "name": "stdout",
          "text": [
            "[ 0  1  2  3  4  5  6  7  8  9 10 11 12 13 14]\n",
            "-------------\n",
            "[ 5  6  7  8  9 10]\n"
          ]
        }
      ]
    },
    {
      "cell_type": "code",
      "source": [
        "# How to make a python function that handles scalars to work on numpy arrays?\n",
        "# Hint\n",
        "# Desired Output:\n",
        "# a = np.array([5, 7, 9, 8, 6, 4, 5])\n",
        "# b = np.array([6, 3, 4, 8, 9, 7, 1])\n",
        "# pair_max(a, b)\n",
        "# #> array([ 6.,  7.,  9.,  8.,  9.,  7.,  5.])\n",
        "\n",
        "\n",
        "\"\"\"Arrays\"\"\"\n",
        "# a = np.array([5, 7, 9, 8, 6, 4, 5])\n",
        "a = np.random.randint(1,10,7)\n",
        "print(\"Array A\")\n",
        "print(a)\n",
        "# b = np.array([6, 3, 4, 8, 9, 7, 1])\n",
        "b = np.random.randint(1,10,7)\n",
        "print(\"Array B\")\n",
        "print(b)\n",
        "\n",
        "print(\"----------------------------\")\n",
        "\n",
        "\"\"\"Method 1\"\"\"\n",
        "print(\"Method 1\")\n",
        "def parMax(a, b):\n",
        "    \"\"\"Get the element-wise maximum of two arrays\"\"\"\n",
        "    return np.maximum(a, b)\n",
        "\n",
        "c = parMax(a, b)\n",
        "print(c)\n",
        "\n",
        "print(\"----------------------------\")\n",
        "\n",
        "print(\"Method 2\")\n",
        "\"\"\"Method 2\"\"\"\n",
        "def maxx(x, y):\n",
        "    \"\"\"Get the maximum of two items\"\"\"\n",
        "    if x >= y:\n",
        "        return x\n",
        "    else:\n",
        "        return y\n",
        "\n",
        "c = np.array([maxx(x, y) for x, y in zip(a, b)])\n",
        "print(c)"
      ],
      "metadata": {
        "colab": {
          "base_uri": "https://localhost:8080/"
        },
        "id": "FVZz6ZY0p9ya",
        "outputId": "200a5527-74a8-4ed0-bb15-53ce5758d3a8"
      },
      "execution_count": null,
      "outputs": [
        {
          "output_type": "stream",
          "name": "stdout",
          "text": [
            "Array A\n",
            "[4 4 8 3 1 3 6]\n",
            "Array B\n",
            "[2 4 5 8 7 6 3]\n",
            "----------------------------\n",
            "Method 1\n",
            "[4 4 8 8 7 6 6]\n",
            "----------------------------\n",
            "Method 2\n",
            "[4 4 8 8 7 6 6]\n"
          ]
        }
      ]
    },
    {
      "cell_type": "code",
      "source": [
        "# Swap columns 1 and 2 in the array arr.\n",
        "# Hint\n",
        "# Desired Output:\n",
        "# [[0 2 1]\n",
        "#  [3 5 4]\n",
        "#  [6 8 7]]\n",
        "\n",
        "\n",
        "arr = np.arange(9).reshape(3,3)\n",
        "print(arr)\n",
        "\n",
        "# Swap columns 1 and 2\n",
        "arr[:, [0, 1]] = arr[:, [1, 0]]\n",
        "\n",
        "print(\"------------------------\")\n",
        "print(\"Cambio de columnas 1 y 2\")\n",
        "print(arr)\n",
        "\n",
        "pass\n"
      ],
      "metadata": {
        "colab": {
          "base_uri": "https://localhost:8080/"
        },
        "outputId": "d6561e87-528e-43fb-9845-99f2380113d3",
        "id": "8vIzM5e8ql6i"
      },
      "execution_count": null,
      "outputs": [
        {
          "output_type": "stream",
          "name": "stdout",
          "text": [
            "[[0 1 2]\n",
            " [3 4 5]\n",
            " [6 7 8]]\n",
            "------------------------\n",
            "Cambio de columnas 1 y 2\n",
            "[[1 0 2]\n",
            " [4 3 5]\n",
            " [7 6 8]]\n"
          ]
        }
      ]
    },
    {
      "cell_type": "code",
      "source": [
        "# Create a 2D array of shape 5x3 to contain random decimal numbers between 5 and 10.\n",
        "# Hint\n",
        "# The desired Output should be like the following one:\n",
        "#  [[ 8.50061025  9.10531502  6.85867783]\n",
        "#   [ 9.76262069  9.87717411  7.13466701]\n",
        "#   [ 7.48966403  8.33409158  6.16808631]\n",
        "#   [ 7.75010551  9.94535696  5.27373226]\n",
        "#   [ 8.0850361   5.56165518  7.31244004]]\n",
        "\n",
        "random_array = np.random.uniform(5, 10, size=(5, 3))\n",
        "print(random_array)"
      ],
      "metadata": {
        "id": "FOXX5b17rY7E",
        "colab": {
          "base_uri": "https://localhost:8080/"
        },
        "outputId": "c6dafc7d-d067-4bba-8e69-1cc1bd67b0e0"
      },
      "execution_count": null,
      "outputs": [
        {
          "output_type": "stream",
          "name": "stdout",
          "text": [
            "[[8.57997356 9.67251033 7.13151702]\n",
            " [6.434198   6.3411781  8.95107794]\n",
            " [9.27742248 8.88833412 8.55284246]\n",
            " [5.66589409 5.46307555 5.1769449 ]\n",
            " [9.79260459 5.76907372 7.88173952]]\n"
          ]
        }
      ]
    }
  ]
}