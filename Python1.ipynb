{
  "nbformat": 4,
  "nbformat_minor": 0,
  "metadata": {
    "colab": {
      "provenance": [],
      "authorship_tag": "ABX9TyPdtzi+Vwmh5XSgpUcvFjm8",
      "include_colab_link": true
    },
    "kernelspec": {
      "name": "python3",
      "display_name": "Python 3"
    },
    "language_info": {
      "name": "python"
    }
  },
  "cells": [
    {
      "cell_type": "markdown",
      "metadata": {
        "id": "view-in-github",
        "colab_type": "text"
      },
      "source": [
        "<a href=\"https://colab.research.google.com/github/jampi222/inteligencia-artificial/blob/main/Python1.ipynb\" target=\"_parent\"><img src=\"https://colab.research.google.com/assets/colab-badge.svg\" alt=\"Open In Colab\"/></a>"
      ]
    },
    {
      "cell_type": "markdown",
      "source": [
        "# **Python Básico**\n",
        "\n",
        "---\n",
        "**Versión de Python**"
      ],
      "metadata": {
        "id": "S8B0dGjGopyk"
      }
    },
    {
      "cell_type": "code",
      "execution_count": null,
      "metadata": {
        "colab": {
          "base_uri": "https://localhost:8080/"
        },
        "id": "yxJ8UgnPodNF",
        "outputId": "77bc12ef-59a5-4663-936d-cc318e5b2632"
      },
      "outputs": [
        {
          "output_type": "stream",
          "name": "stdout",
          "text": [
            "Python 3.10.12\n"
          ]
        }
      ],
      "source": [
        "!python --version"
      ]
    },
    {
      "cell_type": "markdown",
      "source": [
        "**Operaciones con variables**"
      ],
      "metadata": {
        "id": "px7p-gL8ptKn"
      }
    },
    {
      "cell_type": "code",
      "source": [
        "myVariable1 = 9\n",
        "myVariable2 = 5"
      ],
      "metadata": {
        "id": "xW9Vn3zJps18"
      },
      "execution_count": null,
      "outputs": []
    },
    {
      "cell_type": "code",
      "source": [
        "print(myVariable1+myVariable2)\n",
        "print(myVariable1-myVariable2)\n",
        "print(myVariable1*myVariable2)\n",
        "print(myVariable1/myVariable2)"
      ],
      "metadata": {
        "colab": {
          "base_uri": "https://localhost:8080/"
        },
        "id": "eremBedZpsyc",
        "outputId": "3ea286eb-828d-4648-d0ac-0ae5c707ed16"
      },
      "execution_count": null,
      "outputs": [
        {
          "output_type": "stream",
          "name": "stdout",
          "text": [
            "14\n",
            "4\n",
            "45\n",
            "1.8\n"
          ]
        }
      ]
    },
    {
      "cell_type": "markdown",
      "source": [
        "**Operaciones lógicas**"
      ],
      "metadata": {
        "id": "NoYGL_SyrNEy"
      }
    },
    {
      "cell_type": "code",
      "source": [
        "aux1=True\n",
        "aux2=False"
      ],
      "metadata": {
        "id": "3bo6lUZgpovp"
      },
      "execution_count": null,
      "outputs": []
    },
    {
      "cell_type": "code",
      "source": [
        "print(aux1 and aux2)\n",
        "print(aux1 or aux2)\n",
        "print(not aux1)"
      ],
      "metadata": {
        "colab": {
          "base_uri": "https://localhost:8080/"
        },
        "id": "W751VqLWq75A",
        "outputId": "c9979c4f-9906-48ec-cf26-47b1886a0b9b"
      },
      "execution_count": null,
      "outputs": [
        {
          "output_type": "stream",
          "name": "stdout",
          "text": [
            "False\n",
            "True\n",
            "False\n"
          ]
        }
      ]
    },
    {
      "cell_type": "markdown",
      "source": [
        "**Cadena de texto**"
      ],
      "metadata": {
        "id": "11J6dC4krUPr"
      }
    },
    {
      "cell_type": "code",
      "source": [
        "presentation = \"My name is \"\n",
        "name = \"Jorge Armijos\"\n",
        "age = \"and I am 24 years old\"\n",
        "print(presentation.lower(), name, age.upper())"
      ],
      "metadata": {
        "colab": {
          "base_uri": "https://localhost:8080/"
        },
        "id": "E6pMW_jzrbLU",
        "outputId": "2372783a-b105-4124-991a-b3aac7d1a052"
      },
      "execution_count": null,
      "outputs": [
        {
          "output_type": "stream",
          "name": "stdout",
          "text": [
            "my name is  Jorge Armijos AND I AM 24 YEARS OLD\n"
          ]
        }
      ]
    },
    {
      "cell_type": "code",
      "source": [
        "tmp = \"Jorge, Andy, Jean, Bryan\"\n",
        "print(tmp)\n",
        "print(tmp.split(','))"
      ],
      "metadata": {
        "colab": {
          "base_uri": "https://localhost:8080/"
        },
        "id": "oFSEowMas9PJ",
        "outputId": "71a8dcce-718a-4436-9cd7-111660ffc856"
      },
      "execution_count": null,
      "outputs": [
        {
          "output_type": "stream",
          "name": "stdout",
          "text": [
            "Jorge, Andy, Jean, Bryan\n",
            "['Jorge', ' Andy', ' Jean', ' Bryan']\n"
          ]
        }
      ]
    },
    {
      "cell_type": "markdown",
      "source": [
        "**Listas**"
      ],
      "metadata": {
        "id": "K4XD2wyztSGD"
      }
    },
    {
      "cell_type": "code",
      "source": [
        "from os import remove\n",
        "from pickle import APPEND\n",
        "\n",
        "schoolarList = ['notebook','pen','pencil','eraser','ruler']\n",
        "print(schoolarList)"
      ],
      "metadata": {
        "colab": {
          "base_uri": "https://localhost:8080/"
        },
        "id": "vbPWVmd8tWej",
        "outputId": "55d65a11-269c-4a04-9d5c-614648af838c"
      },
      "execution_count": null,
      "outputs": [
        {
          "output_type": "stream",
          "name": "stdout",
          "text": [
            "['notebook', 'pen', 'pencil', 'eraser', 'ruler']\n"
          ]
        }
      ]
    },
    {
      "cell_type": "code",
      "source": [
        "schoolarList.append('computer')\n",
        "print(schoolarList)"
      ],
      "metadata": {
        "colab": {
          "base_uri": "https://localhost:8080/"
        },
        "id": "VU4hhU0Zta7c",
        "outputId": "92f8a1af-ed1c-4ec9-e9b7-227671c069f8"
      },
      "execution_count": null,
      "outputs": [
        {
          "output_type": "stream",
          "name": "stdout",
          "text": [
            "['notebook', 'pen', 'pencil', 'eraser', 'ruler', 'computer']\n"
          ]
        }
      ]
    },
    {
      "cell_type": "code",
      "source": [
        "#Comentar líneas en Python\n",
        "#schoolarList.pop(1)\n",
        "del schoolarList[2]\n",
        "print(schoolarList)"
      ],
      "metadata": {
        "colab": {
          "base_uri": "https://localhost:8080/"
        },
        "id": "00I-EGvxvFpj",
        "outputId": "eb708fb8-965a-4070-d025-d927fe28b057"
      },
      "execution_count": null,
      "outputs": [
        {
          "output_type": "stream",
          "name": "stdout",
          "text": [
            "['notebook', 'pen', 'eraser', 'ruler', 'computer']\n"
          ]
        }
      ]
    },
    {
      "cell_type": "code",
      "source": [
        "from typing import List\n",
        "tmp1 = ['notebook','notebook','notebook','notebook']\n",
        "tmp1.remove('notebook')\n",
        "print(tmp1)"
      ],
      "metadata": {
        "colab": {
          "base_uri": "https://localhost:8080/"
        },
        "id": "HZwLwBqYvKj5",
        "outputId": "a385ceba-6b57-4e60-adcc-931f8e05d940"
      },
      "execution_count": null,
      "outputs": [
        {
          "output_type": "stream",
          "name": "stdout",
          "text": [
            "['notebook', 'notebook', 'notebook']\n"
          ]
        }
      ]
    },
    {
      "cell_type": "code",
      "source": [
        "newList = list(range(15))\n",
        "print(newList)\n",
        "print(newList[4:11])\n",
        "print(newList[-3])\n",
        "print(newList[10:5])"
      ],
      "metadata": {
        "colab": {
          "base_uri": "https://localhost:8080/"
        },
        "id": "cOa0IsfhvchL",
        "outputId": "bee128c3-bd95-4cf3-88c9-aa2497327749"
      },
      "execution_count": null,
      "outputs": [
        {
          "output_type": "stream",
          "name": "stdout",
          "text": [
            "[0, 1, 2, 3, 4, 5, 6, 7, 8, 9, 10, 11, 12, 13, 14]\n",
            "[4, 5, 6, 7, 8, 9, 10]\n",
            "12\n",
            "[]\n"
          ]
        }
      ]
    },
    {
      "cell_type": "markdown",
      "source": [
        "**Diccionario**"
      ],
      "metadata": {
        "id": "TQk4Jzqt1CXr"
      }
    },
    {
      "cell_type": "code",
      "source": [
        "myDictionary = {'cat':'cute', 'dog':'angry','lion':'strong'}\n",
        "\n",
        "print(type(myDictionary))"
      ],
      "metadata": {
        "colab": {
          "base_uri": "https://localhost:8080/"
        },
        "id": "ag40d3R21FB3",
        "outputId": "c1099cf1-4eeb-4780-8847-3015de3005e2"
      },
      "execution_count": null,
      "outputs": [
        {
          "output_type": "stream",
          "name": "stdout",
          "text": [
            "<class 'dict'>\n"
          ]
        }
      ]
    },
    {
      "cell_type": "code",
      "source": [
        "for key, value in myDictionary.items():\n",
        "  print(f'key {key}, value {value}')\n",
        "  print('key %s, value %s'%(key,value))\n",
        "  print('the key value is: {} and the value is: {}'.format(key, value))\n",
        "\n",
        "myDictionary['monkey']='so cute'\n",
        "\n",
        "print('----------------------------------------------')\n",
        "print(myDictionary)"
      ],
      "metadata": {
        "colab": {
          "base_uri": "https://localhost:8080/"
        },
        "id": "3VeWp1jQ1kCq",
        "outputId": "2a44f367-4bab-4e35-ca3a-3fc03d658d0c"
      },
      "execution_count": null,
      "outputs": [
        {
          "output_type": "stream",
          "name": "stdout",
          "text": [
            "key cat, value cute\n",
            "key cat, value cute\n",
            "the key value is: cat and the value is: cute\n",
            "key dog, value angry\n",
            "key dog, value angry\n",
            "the key value is: dog and the value is: angry\n",
            "key lion, value strong\n",
            "key lion, value strong\n",
            "the key value is: lion and the value is: strong\n",
            "----------------------------------------------\n",
            "{'cat': 'cute', 'dog': 'angry', 'lion': 'strong', 'monkey': 'so cute'}\n"
          ]
        }
      ]
    }
  ]
}