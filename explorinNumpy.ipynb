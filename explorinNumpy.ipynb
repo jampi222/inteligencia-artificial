{
  "nbformat": 4,
  "nbformat_minor": 0,
  "metadata": {
    "colab": {
      "provenance": [],
      "include_colab_link": true
    },
    "kernelspec": {
      "name": "python3",
      "display_name": "Python 3"
    },
    "language_info": {
      "name": "python"
    }
  },
  "cells": [
    {
      "cell_type": "markdown",
      "metadata": {
        "id": "view-in-github",
        "colab_type": "text"
      },
      "source": [
        "<a href=\"https://colab.research.google.com/github/jampi222/inteligencia-artificial/blob/main/explorinNumpy.ipynb\" target=\"_parent\"><img src=\"https://colab.research.google.com/assets/colab-badge.svg\" alt=\"Open In Colab\"/></a>"
      ]
    },
    {
      "cell_type": "code",
      "execution_count": null,
      "metadata": {
        "id": "6IfVMU5QUGMT"
      },
      "outputs": [],
      "source": [
        "import numpy as np"
      ]
    },
    {
      "cell_type": "code",
      "source": [
        "import numpy as np\n",
        "\n",
        "# Check the NumPy version\n",
        "print(np.__version__)"
      ],
      "metadata": {
        "colab": {
          "base_uri": "https://localhost:8080/"
        },
        "id": "1ozKiyU_VpBt",
        "outputId": "7cc9c805-17ec-4216-a10a-3d1379f9c25f"
      },
      "execution_count": null,
      "outputs": [
        {
          "output_type": "stream",
          "name": "stdout",
          "text": [
            "1.23.5\n"
          ]
        }
      ]
    },
    {
      "cell_type": "code",
      "source": [
        "# Create a 1D array of numbers from 0 to 9\n",
        "array_1d = np.arange(10)\n",
        "\n",
        "print(array_1d)\n"
      ],
      "metadata": {
        "colab": {
          "base_uri": "https://localhost:8080/"
        },
        "id": "NF82EuwYVyVo",
        "outputId": "6eb63f18-58a8-4d75-d685-9a44e412ca4d"
      },
      "execution_count": null,
      "outputs": [
        {
          "output_type": "stream",
          "name": "stdout",
          "text": [
            "[0 1 2 3 4 5 6 7 8 9]\n"
          ]
        }
      ]
    },
    {
      "cell_type": "code",
      "source": [
        "# Create a random vector of size 10\n",
        "random_vector = np.random.rand(10)\n",
        "\n",
        "# Find the index of the maximum value in the vector\n",
        "max_index = np.argmax(random_vector)\n",
        "\n",
        "# Replace the maximum value with 0\n",
        "random_vector[max_index] = 0\n",
        "\n",
        "print(\"Random vector with the maximum value replaced by 0:\")\n",
        "print(random_vector)\n"
      ],
      "metadata": {
        "colab": {
          "base_uri": "https://localhost:8080/"
        },
        "id": "tINuoNmNWhL1",
        "outputId": "c247debf-ddb6-46da-c485-7c4ee6ea5e4a"
      },
      "execution_count": null,
      "outputs": [
        {
          "output_type": "stream",
          "name": "stdout",
          "text": [
            "Random vector with the maximum value replaced by 0:\n",
            "[0.67087963 0.49034208 0.85653044 0.90943416 0.1292748  0.\n",
            " 0.4248233  0.09431999 0.34777831 0.42009835]\n"
          ]
        }
      ]
    },
    {
      "cell_type": "code",
      "source": [
        "arr = np.array([[1, 2, 3, 4, 5], [6, 7, 8, 9, 10]])\n",
        "\n",
        "# To print the number 8\n",
        "number_to_find = 8\n",
        "\n",
        "indices = np.where(arr == number_to_find)\n",
        "\n",
        "print(\"Indices of the number 8:\")\n",
        "print(indices)\n",
        "\n",
        "found_value = arr[indices]\n",
        "print(\"The number 8 is at position:\", indices[0], indices[1])\n",
        "print(\"Value at that position:\", found_value)"
      ],
      "metadata": {
        "colab": {
          "base_uri": "https://localhost:8080/"
        },
        "id": "nemgsJQUWyUP",
        "outputId": "395a74aa-7954-47fa-92a2-f51820cbcd23"
      },
      "execution_count": null,
      "outputs": [
        {
          "output_type": "stream",
          "name": "stdout",
          "text": [
            "Indices of the number 8:\n",
            "(array([1]), array([2]))\n",
            "The number 8 is at position: [1] [2]\n",
            "Value at that position: [8]\n"
          ]
        }
      ]
    },
    {
      "cell_type": "code",
      "source": [
        "arr = np.array([1, 2, 3, 4, 5, 6, 7])\n",
        "\n",
        "# Use slicing to extract the numbers [3, 4, 5]\n",
        "subset = arr[2:5]\n",
        "\n",
        "print(\"The numbers [3, 4, 5] from the array:\")\n",
        "print(subset)"
      ],
      "metadata": {
        "colab": {
          "base_uri": "https://localhost:8080/"
        },
        "id": "AtifauT8XELd",
        "outputId": "c3631bb7-8674-460e-e5c5-5f0d33e5e6b8"
      },
      "execution_count": null,
      "outputs": [
        {
          "output_type": "stream",
          "name": "stdout",
          "text": [
            "The numbers [3, 4, 5] from the array:\n",
            "[3 4 5]\n"
          ]
        }
      ]
    },
    {
      "cell_type": "code",
      "source": [
        "arr = np.array([1, 2, 3, 4, 5, 6, 7])\n",
        "\n",
        "# Use slicing to extract the last 4 numbers\n",
        "a = arr[-4:]\n",
        "\n",
        "print(\"The last 4 numbers from the array:\")\n",
        "print(a)"
      ],
      "metadata": {
        "colab": {
          "base_uri": "https://localhost:8080/"
        },
        "id": "sDu7y9AcW5Z1",
        "outputId": "70b3cafc-79c7-4eff-d6d5-5c7f22ade93a"
      },
      "execution_count": null,
      "outputs": [
        {
          "output_type": "stream",
          "name": "stdout",
          "text": [
            "The last 4 numbers from the array:\n",
            "[4 5 6 7]\n"
          ]
        }
      ]
    },
    {
      "cell_type": "code",
      "source": [
        "t = np.ones((2, 2), dtype=bool)\n",
        "\n",
        "print(t)"
      ],
      "metadata": {
        "colab": {
          "base_uri": "https://localhost:8080/"
        },
        "id": "MLdnTACNXX0c",
        "outputId": "62c412c4-c637-4579-c5d6-8972b5a95fd3"
      },
      "execution_count": null,
      "outputs": [
        {
          "output_type": "stream",
          "name": "stdout",
          "text": [
            "[[ True  True]\n",
            " [ True  True]]\n"
          ]
        }
      ]
    },
    {
      "cell_type": "code",
      "source": [
        "arr = np.array([1, 2, 3, 4, 5, 6, 7, 8, 9])\n",
        "\n",
        "# Use boolean indexing to extract odd numbers\n",
        "odd_numbers = arr[arr % 2 == 1]\n",
        "\n",
        "print(\"Odd numbers from the array:\")\n",
        "print(odd_numbers)"
      ],
      "metadata": {
        "colab": {
          "base_uri": "https://localhost:8080/"
        },
        "id": "x_ZpdbpCX-3d",
        "outputId": "b4ba2060-27bb-4e39-ebcc-4c0dfef93f31"
      },
      "execution_count": null,
      "outputs": [
        {
          "output_type": "stream",
          "name": "stdout",
          "text": [
            "Odd numbers from the array:\n",
            "[1 3 5 7 9]\n"
          ]
        }
      ]
    },
    {
      "cell_type": "code",
      "source": [
        "vector = np.arange(10, 50)\n",
        "\n",
        "print(vector)"
      ],
      "metadata": {
        "colab": {
          "base_uri": "https://localhost:8080/"
        },
        "id": "EPlu8IigY-8b",
        "outputId": "3b94b581-6f2b-41a3-e4cc-88ff193da311"
      },
      "execution_count": null,
      "outputs": [
        {
          "output_type": "stream",
          "name": "stdout",
          "text": [
            "[10 11 12 13 14 15 16 17 18 19 20 21 22 23 24 25 26 27 28 29 30 31 32 33\n",
            " 34 35 36 37 38 39 40 41 42 43 44 45 46 47 48 49]\n"
          ]
        }
      ]
    },
    {
      "cell_type": "code",
      "source": [
        "vector = np.arange(10, 50)\n",
        "\n",
        "# Reverse the vector\n",
        "reversed_vector = vector[::-1]\n",
        "\n",
        "print(reversed_vector)"
      ],
      "metadata": {
        "colab": {
          "base_uri": "https://localhost:8080/"
        },
        "id": "TARCz0tcZHan",
        "outputId": "51e026c7-6e19-40e8-ae0f-7dd5c625cab2"
      },
      "execution_count": null,
      "outputs": [
        {
          "output_type": "stream",
          "name": "stdout",
          "text": [
            "[49 48 47 46 45 44 43 42 41 40 39 38 37 36 35 34 33 32 31 30 29 28 27 26\n",
            " 25 24 23 22 21 20 19 18 17 16 15 14 13 12 11 10]\n"
          ]
        }
      ]
    },
    {
      "cell_type": "code",
      "source": [
        "random_array = np.random.randint(0, 101, size=(10, 10))\n",
        "\n",
        "# Find the minimum and maximum values\n",
        "min_value = np.min(random_array)\n",
        "max_value = np.max(random_array)\n",
        "\n",
        "print(\"Random Array:\")\n",
        "print(random_array)\n",
        "print(\"Minimum Value:\", min_value)\n",
        "print(\"Maximum Value:\", max_value)"
      ],
      "metadata": {
        "colab": {
          "base_uri": "https://localhost:8080/"
        },
        "id": "0hTe24GRZ0Og",
        "outputId": "2e3979d0-ed38-46e8-f223-3e3415576f55"
      },
      "execution_count": null,
      "outputs": [
        {
          "output_type": "stream",
          "name": "stdout",
          "text": [
            "Random Array:\n",
            "[[13 57 78 58 12 93 82 29 51 34]\n",
            " [82 32 28 21 84 83 58 80 13 39]\n",
            " [64 18 52 35 74 92 53 77 34 30]\n",
            " [71 60 35 71 99 19 41 36 59 17]\n",
            " [36 31 25 33 69 66  7  1 83 28]\n",
            " [28 23 81 36 60  7 64 19 86 29]\n",
            " [62 67 12 18 32  2 90 53 68 38]\n",
            " [99 67  6 93 25 36 90 87 14 84]\n",
            " [42 21 94 86 27 18 48 77 80 93]\n",
            " [33 31 27 68 41  6 47 20 41  0]]\n",
            "Minimum Value: 0\n",
            "Maximum Value: 99\n"
          ]
        }
      ]
    },
    {
      "cell_type": "code",
      "source": [
        "randon = np.random.rand(3, 3, 3)\n",
        "\n",
        "print(randon)"
      ],
      "metadata": {
        "colab": {
          "base_uri": "https://localhost:8080/"
        },
        "id": "YmOi2ThfaXFM",
        "outputId": "feba2eb3-9b45-4061-e5a0-b0758e5739a8"
      },
      "execution_count": null,
      "outputs": [
        {
          "output_type": "stream",
          "name": "stdout",
          "text": [
            "[[[0.20810817 0.72523111 0.19621172]\n",
            "  [0.42467001 0.2706585  0.5303172 ]\n",
            "  [0.05807656 0.97474591 0.57734452]]\n",
            "\n",
            " [[0.56609884 0.42129758 0.9445945 ]\n",
            "  [0.64033202 0.30971608 0.43400677]\n",
            "  [0.92092345 0.17812725 0.03376925]]\n",
            "\n",
            " [[0.78257558 0.21707406 0.67710168]\n",
            "  [0.97915025 0.0470139  0.89001353]\n",
            "  [0.86137091 0.25416537 0.4516412 ]]]\n"
          ]
        }
      ]
    },
    {
      "cell_type": "code",
      "source": [
        "import numpy as np\n",
        "\n",
        "# Create or define your NumPy array (arr)\n",
        "arr = np.array([1, 2, 3, 4, 5, 6, 7, 8, 9])\n",
        "\n",
        "# Use boolean indexing to replace odd numbers with -1\n",
        "arr[arr % 2 == 1] = -1\n",
        "\n",
        "print(\"Modified array with odd numbers replaced by -1:\")\n",
        "print(arr)\n"
      ],
      "metadata": {
        "colab": {
          "base_uri": "https://localhost:8080/"
        },
        "id": "44F8WaTlavVM",
        "outputId": "d86a6ae1-782c-43c4-a464-6930b5fcc002"
      },
      "execution_count": null,
      "outputs": [
        {
          "output_type": "stream",
          "name": "stdout",
          "text": [
            "Modified array with odd numbers replaced by -1:\n",
            "[-1  2 -1  4 -1  6 -1  8 -1]\n"
          ]
        }
      ]
    },
    {
      "cell_type": "code",
      "source": [
        "float_array = np.array([1.3, 2.5, 3.7, 4.2])\n",
        "\n",
        "print(float_array)"
      ],
      "metadata": {
        "colab": {
          "base_uri": "https://localhost:8080/"
        },
        "id": "g74LjKnAa680",
        "outputId": "5618e345-1b9d-4ddc-b488-26d459a184f5"
      },
      "execution_count": null,
      "outputs": [
        {
          "output_type": "stream",
          "name": "stdout",
          "text": [
            "[1.3 2.5 3.7 4.2]\n"
          ]
        }
      ]
    },
    {
      "cell_type": "code",
      "source": [
        "arr_1d = np.array([1, 2, 3, 4, 5, 6, 7, 8])\n",
        "\n",
        "# Reshape the 1D array into a 2D array with 2 rows\n",
        "arr_2d = arr_1d.reshape(2, -1)\n",
        "\n",
        "print(\"1D Array:\")\n",
        "print(arr_1d)\n",
        "\n",
        "print(\"2D Array with 2 rows:\")\n",
        "print(arr_2d)"
      ],
      "metadata": {
        "colab": {
          "base_uri": "https://localhost:8080/"
        },
        "id": "A3DLy7FcbATG",
        "outputId": "338d8061-e322-47df-ff6e-511f2ccea734"
      },
      "execution_count": null,
      "outputs": [
        {
          "output_type": "stream",
          "name": "stdout",
          "text": [
            "1D Array:\n",
            "[1 2 3 4 5 6 7 8]\n",
            "2D Array with 2 rows:\n",
            "[[1 2 3 4]\n",
            " [5 6 7 8]]\n"
          ]
        }
      ]
    },
    {
      "cell_type": "code",
      "source": [
        "Z1 = np.random.randint(0, 10, 10)\n",
        "Z2 = np.random.randint(0, 10, 10)\n",
        "\n",
        "# Find the common values between Z1 and Z2\n",
        "common_values = np.intersect1d(Z1, Z2)\n",
        "\n",
        "print(\"Array Z1:\", Z1)\n",
        "print(\"Array Z2:\", Z2)\n",
        "print(\"Common values:\", common_values)\n",
        "\n",
        "\n"
      ],
      "metadata": {
        "colab": {
          "base_uri": "https://localhost:8080/"
        },
        "id": "fwMrNa7Rb78m",
        "outputId": "38cc4699-25ee-4beb-9f66-005629f40bfa"
      },
      "execution_count": null,
      "outputs": [
        {
          "output_type": "stream",
          "name": "stdout",
          "text": [
            "Array Z1: [2 9 4 2 6 1 0 6 1 8]\n",
            "Array Z2: [5 9 4 7 2 4 8 8 8 6]\n",
            "Common values: [2 4 6 8 9]\n"
          ]
        }
      ]
    },
    {
      "cell_type": "code",
      "source": [
        "A = np.random.randint(0, 2, 5)\n",
        "B = np.random.randint(0, 2, 5)\n",
        "\n",
        "# Check if A and B are equal\n",
        "are_equal = np.array_equal(A, B)\n",
        "\n",
        "print(\"Array A:\", A)\n",
        "print(\"Array B:\", B)\n",
        "print(\"Are A and B equal?\", are_equal)"
      ],
      "metadata": {
        "colab": {
          "base_uri": "https://localhost:8080/"
        },
        "id": "q-6UA5recHt_",
        "outputId": "5dfe5c8d-742c-4983-8f35-d3db11c4b06c"
      },
      "execution_count": null,
      "outputs": [
        {
          "output_type": "stream",
          "name": "stdout",
          "text": [
            "Array A: [1 1 0 1 1]\n",
            "Array B: [0 0 0 1 0]\n",
            "Are A and B equal? False\n"
          ]
        }
      ]
    },
    {
      "cell_type": "code",
      "source": [
        "a = np.array([0, 2, 5])\n",
        "b = np.array([0, 2, 5])\n",
        "\n",
        "# Stack arrays a and b vertically\n",
        "stacked_array = np.vstack((a, b))\n",
        "\n",
        "print(\"Array a:\")\n",
        "print(a)\n",
        "\n",
        "print(\"Array b:\")\n",
        "print(b)\n",
        "\n",
        "print(\"Stacked array (vertically):\")\n",
        "print(stacked_array)"
      ],
      "metadata": {
        "colab": {
          "base_uri": "https://localhost:8080/"
        },
        "id": "tM5H7BObcYDf",
        "outputId": "36092854-fe37-4066-ff5f-ec100de2589f"
      },
      "execution_count": null,
      "outputs": [
        {
          "output_type": "stream",
          "name": "stdout",
          "text": [
            "Array a:\n",
            "[0 2 5]\n",
            "Array b:\n",
            "[0 2 5]\n",
            "Stacked array (vertically):\n",
            "[[0 2 5]\n",
            " [0 2 5]]\n"
          ]
        }
      ]
    },
    {
      "cell_type": "code",
      "source": [
        "a = np.array([0, 2, 5])\n",
        "b = np.array([0, 2, 5])\n",
        "\n",
        "# Stack arrays a and b horizontally\n",
        "stacked_array = np.hstack((a, b))\n",
        "\n",
        "print(\"Array a:\")\n",
        "print(a)\n",
        "\n",
        "print(\"Array b:\")\n",
        "print(b)\n",
        "\n",
        "print(\"Stacked array (horizontally):\")\n",
        "print(stacked_array)"
      ],
      "metadata": {
        "colab": {
          "base_uri": "https://localhost:8080/"
        },
        "id": "b8uD9XnWc9Qm",
        "outputId": "2f733e45-4927-4df0-d39c-23e0220c9ec1"
      },
      "execution_count": null,
      "outputs": [
        {
          "output_type": "stream",
          "name": "stdout",
          "text": [
            "Array a:\n",
            "[0 2 5]\n",
            "Array b:\n",
            "[0 2 5]\n",
            "Stacked array (horizontally):\n",
            "[0 2 5 0 2 5]\n"
          ]
        }
      ]
    },
    {
      "cell_type": "code",
      "source": [
        "tmp = np.arange(15)\n",
        "\n",
        "# Create a boolean mask to identify elements between 5 and 10\n",
        "mask = (tmp >= 5) & (tmp <= 10)\n",
        "\n",
        "# Use the boolean mask to extract elements between 5 and 10\n",
        "result = tmp[mask]\n",
        "\n",
        "print(\"Array tmp:\")\n",
        "print(tmp)\n",
        "\n",
        "print(\"Items between 5 and 10:\")\n",
        "print(result)"
      ],
      "metadata": {
        "colab": {
          "base_uri": "https://localhost:8080/"
        },
        "id": "HlFjdLELdiMT",
        "outputId": "791ab4af-964d-4f01-91e8-8c1a8737281e"
      },
      "execution_count": null,
      "outputs": [
        {
          "output_type": "stream",
          "name": "stdout",
          "text": [
            "Array tmp:\n",
            "[ 0  1  2  3  4  5  6  7  8  9 10 11 12 13 14]\n",
            "Items between 5 and 10:\n",
            "[ 5  6  7  8  9 10]\n"
          ]
        }
      ]
    },
    {
      "cell_type": "code",
      "source": [
        "def pair_max(a, b):\n",
        "    \"\"\"Get the element-wise maximum of two arrays a and b.\"\"\"\n",
        "    return np.maximum(a, b)\n",
        "\n",
        "a = np.array([5, 7, 9, 8, 6, 4, 5])\n",
        "b = np.array([6, 3, 4, 8, 9, 7, 1])\n",
        "\n",
        "result = pair_max(a, b)\n",
        "print(result)"
      ],
      "metadata": {
        "colab": {
          "base_uri": "https://localhost:8080/"
        },
        "id": "BxufP_zZd2U0",
        "outputId": "508cc920-1f4f-4ca3-9873-383a3929586d"
      },
      "execution_count": null,
      "outputs": [
        {
          "output_type": "stream",
          "name": "stdout",
          "text": [
            "[6 7 9 8 9 7 5]\n"
          ]
        }
      ]
    },
    {
      "cell_type": "code",
      "source": [
        "arr = np.arange(9).reshape(3, 3)\n",
        "print(\"Original array:\")\n",
        "print(arr)\n",
        "\n",
        "# Swap columns 1 and 2\n",
        "arr[:, [1, 2]] = arr[:, [2, 1]]\n",
        "\n",
        "print(\"Array after swapping columns 1 and 2:\")\n",
        "print(arr)"
      ],
      "metadata": {
        "colab": {
          "base_uri": "https://localhost:8080/"
        },
        "id": "mHXbptnmeEZT",
        "outputId": "8a865987-c7f7-4218-f1b0-0673fd01fbdd"
      },
      "execution_count": null,
      "outputs": [
        {
          "output_type": "stream",
          "name": "stdout",
          "text": [
            "Original array:\n",
            "[[0 1 2]\n",
            " [3 4 5]\n",
            " [6 7 8]]\n",
            "Array after swapping columns 1 and 2:\n",
            "[[0 2 1]\n",
            " [3 5 4]\n",
            " [6 8 7]]\n"
          ]
        }
      ]
    },
    {
      "cell_type": "code",
      "source": [
        "random_array = np.random.uniform(5, 10, size=(5, 3))\n",
        "\n",
        "print(random_array)\n"
      ],
      "metadata": {
        "colab": {
          "base_uri": "https://localhost:8080/"
        },
        "id": "zyTZbqpVeijA",
        "outputId": "a83bc496-096f-4141-887a-8188bdaf1018"
      },
      "execution_count": null,
      "outputs": [
        {
          "output_type": "stream",
          "name": "stdout",
          "text": [
            "[[5.07695792 8.13353125 7.63725627]\n",
            " [8.93930692 8.62480132 6.57785557]\n",
            " [8.45080903 5.3431797  8.95482708]\n",
            " [9.27924125 6.83049599 9.04400256]\n",
            " [7.59892454 5.48367735 7.85655403]]\n"
          ]
        }
      ]
    }
  ]
}