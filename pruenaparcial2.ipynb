{
  "nbformat": 4,
  "nbformat_minor": 0,
  "metadata": {
    "colab": {
      "provenance": [],
      "authorship_tag": "ABX9TyMCrZZ7/NkC4TX0mflPq/B4",
      "include_colab_link": true
    },
    "kernelspec": {
      "name": "python3",
      "display_name": "Python 3"
    },
    "language_info": {
      "name": "python"
    }
  },
  "cells": [
    {
      "cell_type": "markdown",
      "metadata": {
        "id": "view-in-github",
        "colab_type": "text"
      },
      "source": [
        "<a href=\"https://colab.research.google.com/github/jampi222/inteligencia-artificial/blob/main/pruenaparcial2.ipynb\" target=\"_parent\"><img src=\"https://colab.research.google.com/assets/colab-badge.svg\" alt=\"Open In Colab\"/></a>"
      ]
    },
    {
      "cell_type": "code",
      "execution_count": 2,
      "metadata": {
        "colab": {
          "base_uri": "https://localhost:8080/"
        },
        "id": "wQrpb9wI6i07",
        "outputId": "f823408d-ad9c-43de-f371-3bd30c19dad2"
      },
      "outputs": [
        {
          "output_type": "stream",
          "name": "stdout",
          "text": [
            "[0.06044754 0.60258791 0.         0.31371203 0.05359179 0.28446109\n",
            " 0.77379251 0.08175284 0.1240928  0.55143924]\n"
          ]
        }
      ],
      "source": [
        "import numpy as np\n",
        "# Create random vector of size 10 and replace the maximum value by 0\n",
        "random_vector = np.random.rand(10)\n",
        "max_index = np.argmax(random_vector)\n",
        "random_vector[max_index] = 0\n",
        "print(random_vector)"
      ]
    },
    {
      "cell_type": "code",
      "source": [
        "# Print the number 8 from the array below:\n",
        "# arr = np.array([[1,2,3,4,5], [6,7,8,9,10]])\n",
        "arr = np.array([[1, 2, 3, 4, 5], [6, 7, 8, 9, 10]])\n",
        "element = arr[1, 2]\n",
        "print( element)"
      ],
      "metadata": {
        "colab": {
          "base_uri": "https://localhost:8080/"
        },
        "id": "-lMcn1Sm6sWa",
        "outputId": "f0e3169a-cf96-4dc6-abed-d79c8c89bd81"
      },
      "execution_count": 3,
      "outputs": [
        {
          "output_type": "stream",
          "name": "stdout",
          "text": [
            "8\n"
          ]
        }
      ]
    },
    {
      "cell_type": "code",
      "source": [
        "# Print the numbers [3, 4, 5] from the array below:\n",
        "# arr = np.array([1,2,3,4,5,6,7])\n",
        "arr = np.array([1, 2, 3, 4, 5, 6, 7])\n",
        "subset = arr[2:5]\n",
        "print(subset)"
      ],
      "metadata": {
        "colab": {
          "base_uri": "https://localhost:8080/"
        },
        "id": "kHPY3xgo6zHx",
        "outputId": "52a4e53c-30ae-44c5-eeeb-463b36b619ce"
      },
      "execution_count": 4,
      "outputs": [
        {
          "output_type": "stream",
          "name": "stdout",
          "text": [
            "[3 4 5]\n"
          ]
        }
      ]
    },
    {
      "cell_type": "code",
      "source": [
        "# Print the last 4 numbers from the array below:\n",
        "# arr = np.array([1,2,3,4,5,6,7])\n",
        "arr = np.array([1, 2, 3, 4, 5, 6, 7])\n",
        "last_four_numbers = arr[-4:]\n",
        "print(last_four_numbers)"
      ],
      "metadata": {
        "colab": {
          "base_uri": "https://localhost:8080/"
        },
        "id": "CKtpvR_e64xa",
        "outputId": "4e4eb01a-76b2-4b1c-8753-85775ccb5bef"
      },
      "execution_count": 5,
      "outputs": [
        {
          "output_type": "stream",
          "name": "stdout",
          "text": [
            "[4 5 6 7]\n"
          ]
        }
      ]
    },
    {
      "cell_type": "code",
      "source": [
        "# Create a 3×3 numpy array of all True’s\n",
        "# your code here\n",
        "true_array = np.ones((3, 3), dtype=bool)\n",
        "print(true_array)"
      ],
      "metadata": {
        "colab": {
          "base_uri": "https://localhost:8080/"
        },
        "id": "X5fHBiMi6-YW",
        "outputId": "df63ec00-c7a4-4437-ee28-b9d5ed8554fb"
      },
      "execution_count": 6,
      "outputs": [
        {
          "output_type": "stream",
          "name": "stdout",
          "text": [
            "[[ True  True  True]\n",
            " [ True  True  True]\n",
            " [ True  True  True]]\n"
          ]
        }
      ]
    },
    {
      "cell_type": "code",
      "source": [
        "# Extract all odd numbers from arr\n",
        "# your code here\n",
        "arr = np.array([1, 2, 3, 4, 5, 6, 7, 8, 9])\n",
        "odd_numbers = arr[arr % 2 != 0]\n",
        "print(odd_numbers)"
      ],
      "metadata": {
        "colab": {
          "base_uri": "https://localhost:8080/"
        },
        "id": "zwKS9z3t7CIK",
        "outputId": "a95bc3f9-07dd-4acd-fd8b-1f2aa72504d3"
      },
      "execution_count": 7,
      "outputs": [
        {
          "output_type": "stream",
          "name": "stdout",
          "text": [
            "[1 3 5 7 9]\n"
          ]
        }
      ]
    },
    {
      "cell_type": "code",
      "source": [
        "# Create a vector with values ranging from 10 to 49 (★☆☆)\n",
        "vector = np.arange(10, 50)\n",
        "print(vector)"
      ],
      "metadata": {
        "colab": {
          "base_uri": "https://localhost:8080/"
        },
        "id": "4aQVSSXs7Jca",
        "outputId": "e283fa22-ad71-444d-8518-59a90a05ea56"
      },
      "execution_count": 8,
      "outputs": [
        {
          "output_type": "stream",
          "name": "stdout",
          "text": [
            "[10 11 12 13 14 15 16 17 18 19 20 21 22 23 24 25 26 27 28 29 30 31 32 33\n",
            " 34 35 36 37 38 39 40 41 42 43 44 45 46 47 48 49]\n"
          ]
        }
      ]
    },
    {
      "cell_type": "code",
      "source": [
        "# Reverse a vector (first element becomes last)\n",
        "vector = np.array([1, 2, 3, 4, 5])\n",
        "reversed_vector = vector[::-1]\n",
        "print( vector)\n",
        "print(reversed_vector)"
      ],
      "metadata": {
        "colab": {
          "base_uri": "https://localhost:8080/"
        },
        "id": "wOqIytMf-Scs",
        "outputId": "d0e38115-8427-4ae1-af0c-47943ce4cd84"
      },
      "execution_count": 9,
      "outputs": [
        {
          "output_type": "stream",
          "name": "stdout",
          "text": [
            "[1 2 3 4 5]\n",
            "[5 4 3 2 1]\n"
          ]
        }
      ]
    },
    {
      "cell_type": "code",
      "source": [
        "#  Create a 10x10 array with random integer values and find the minimum and maximum values\n",
        "random_array = np.random.randint(0, 100, (10, 10))\n",
        "min_value = random_array.min()\n",
        "max_value = random_array.max()\n",
        "print(random_array)\n",
        "print(min_value)\n",
        "print(max_value)"
      ],
      "metadata": {
        "colab": {
          "base_uri": "https://localhost:8080/"
        },
        "id": "Pn4xulCn-WKc",
        "outputId": "19827a0d-84b5-4026-8504-8b624eb36f03"
      },
      "execution_count": 10,
      "outputs": [
        {
          "output_type": "stream",
          "name": "stdout",
          "text": [
            "[[95  3 34 57 53 30 16  3 77 80]\n",
            " [29 30 80 96 59 62 84 16 39  7]\n",
            " [58  3  4 93 92 10 91 42 58 12]\n",
            " [34 93 98 61 76 43 71 62 77 48]\n",
            " [33 74 43 87 61 98 23 80 25 73]\n",
            " [72 47 23 70 36 94 34 36 79 99]\n",
            " [39 93 31 53  0 15 85 25 10 12]\n",
            " [ 9 58 22 74 76 44 95 23 27  7]\n",
            " [29 80 47 27 92 82 33 99 61 56]\n",
            " [21 32 39 95 90 67 74 70 26  7]]\n",
            "0\n",
            "99\n"
          ]
        }
      ]
    },
    {
      "cell_type": "code",
      "source": [
        "# Create a 3x3x3 array with random values\n",
        "random_3d_array = np.random.rand(3, 3, 3)\n",
        "print(random_3d_array)"
      ],
      "metadata": {
        "colab": {
          "base_uri": "https://localhost:8080/"
        },
        "id": "iNV4YUG5-f4V",
        "outputId": "ec2f9c2c-2afd-4940-f85b-ce0fa9019646"
      },
      "execution_count": 11,
      "outputs": [
        {
          "output_type": "stream",
          "name": "stdout",
          "text": [
            "[[[0.85011467 0.77261331 0.77313385]\n",
            "  [0.07049631 0.55432979 0.09637443]\n",
            "  [0.31975088 0.13018254 0.47008738]]\n",
            "\n",
            " [[0.28212728 0.84541445 0.38756959]\n",
            "  [0.41092197 0.07229336 0.52974888]\n",
            "  [0.1478136  0.32498859 0.66250442]]\n",
            "\n",
            " [[0.71015794 0.20849015 0.7165319 ]\n",
            "  [0.41022706 0.57196333 0.59684725]\n",
            "  [0.69744962 0.95152694 0.51837875]]]\n"
          ]
        }
      ]
    },
    {
      "cell_type": "code",
      "source": [
        "# Replace all odd numbers in arr with -1\n",
        "# your code here\n",
        "arr = np.array([1, 2, 3, 4, 5, 6, 7, 8, 9])\n",
        "arr[arr % 2 == 1] = -1\n",
        "print(arr)"
      ],
      "metadata": {
        "colab": {
          "base_uri": "https://localhost:8080/"
        },
        "id": "GkWELE_Q-jiX",
        "outputId": "ca5b5d6d-873c-4d04-fe42-3c40fbc82324"
      },
      "execution_count": 12,
      "outputs": [
        {
          "output_type": "stream",
          "name": "stdout",
          "text": [
            "[-1  2 -1  4 -1  6 -1  8 -1]\n"
          ]
        }
      ]
    },
    {
      "cell_type": "code",
      "source": [
        "# Create an array of type float\n",
        "float_array = np.array([1.0, 2.5, 3.7, 4.2], dtype=float)\n",
        "print(float_array)"
      ],
      "metadata": {
        "colab": {
          "base_uri": "https://localhost:8080/"
        },
        "id": "hFMvcxUH-oQr",
        "outputId": "8c79f164-832d-4023-ed12-dd4086ab1ce7"
      },
      "execution_count": 16,
      "outputs": [
        {
          "output_type": "stream",
          "name": "stdout",
          "text": [
            "[1.  2.5 3.7 4.2]\n"
          ]
        }
      ]
    },
    {
      "cell_type": "code",
      "source": [
        "# Convert a 1D array to a 2D array with 2 rows\n",
        "# your code here\n",
        "original_array = np.array([1, 2, 3, 4, 5, 6])\n",
        "reshaped_array = original_array.reshape(2, -1)\n",
        "print(original_array)\n",
        "print(reshaped_array)"
      ],
      "metadata": {
        "colab": {
          "base_uri": "https://localhost:8080/"
        },
        "id": "MIWZjjGh-rwc",
        "outputId": "a3d02330-49da-46e7-e376-8423322a8c1c"
      },
      "execution_count": 15,
      "outputs": [
        {
          "output_type": "stream",
          "name": "stdout",
          "text": [
            "[1 2 3 4 5 6]\n",
            "[[1 2 3]\n",
            " [4 5 6]]\n"
          ]
        }
      ]
    },
    {
      "cell_type": "code",
      "source": [
        "# How to find common values between two arrays?\n",
        "\n",
        "# Z1 = np.random.randint(0,10,10)\n",
        "# Z2 = np.random.randint(0,10,10)\n",
        "Z1 = np.random.randint(0, 10, 10)\n",
        "Z2 = np.random.randint(0, 10, 10)\n",
        "common_values = np.intersect1d(Z1, Z2)\n",
        "print(Z1)\n",
        "print(Z2)\n",
        "print(common_values)"
      ],
      "metadata": {
        "colab": {
          "base_uri": "https://localhost:8080/"
        },
        "id": "fTkUIP0y-whr",
        "outputId": "8eb53e36-5c63-438b-b196-906cf6ad3f68"
      },
      "execution_count": 17,
      "outputs": [
        {
          "output_type": "stream",
          "name": "stdout",
          "text": [
            "[7 5 0 1 2 5 3 7 6 2]\n",
            "[0 2 9 7 4 6 8 8 4 1]\n",
            "[0 1 2 6 7]\n"
          ]
        }
      ]
    },
    {
      "cell_type": "code",
      "source": [
        "#  Consider two random array A and B, check if they are equal\n",
        "\n",
        "\n",
        "# A = np.random.randint(0,2,5)\n",
        "# B = np.random.randint(0,2,5)\n",
        "\n",
        "A = np.random.randint(0, 2, 5)\n",
        "B = np.random.randint(0, 2, 5)\n",
        "are_equal = np.array_equal(A, B)\n",
        "print(A)\n",
        "print(B)\n",
        "print(are_equal)\n",
        "A = np.random.randint(0, 2, 5)\n",
        "B = np.random.randint(0, 2, 5)\n",
        "elementwise_equal = np.all(A == B)\n",
        "print(A)\n",
        "print(B)\n",
        "print(elementwise_equal)"
      ],
      "metadata": {
        "colab": {
          "base_uri": "https://localhost:8080/"
        },
        "id": "UPWZsmG8-5tk",
        "outputId": "4512d7b0-63ee-41f2-b38e-aea1696f9721"
      },
      "execution_count": 18,
      "outputs": [
        {
          "output_type": "stream",
          "name": "stdout",
          "text": [
            "[0 1 1 1 0]\n",
            "[0 0 0 0 1]\n",
            "False\n",
            "[1 0 1 1 1]\n",
            "[1 1 1 0 0]\n",
            "False\n"
          ]
        }
      ]
    }
  ]
}